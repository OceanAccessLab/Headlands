{
 "cells": [
  {
   "cell_type": "markdown",
   "metadata": {},
   "source": [
    "# Ocean Climate Project\n",
    "\n",
    "In this notebook, we will be looking at ocean temperature data from the Comfort Cove site.\n",
    "\n",
    "1. [Removing Duplicates](#Removing-Duplicates)\n",
    "2. [Extracting File Headers](#Extracting-File-Headers)\n",
    "3. [Converting to netCDF files](#Converting-to-netCDF-File)\n",
    "4. [Plotting](#Plotting)\n",
    "5. [Climatology](#Climatology)\n",
    "6. [Upwells](#Upwells)\n",
    "\n",
    "\n",
    "Giulia Bronzi  \n",
    "June - August 2020"
   ]
  },
  {
   "cell_type": "code",
   "execution_count": 1,
   "metadata": {},
   "outputs": [],
   "source": [
    "import pandas as pd\n",
    "import matplotlib.pyplot as plt\n",
    "import numpy as np\n",
    "import datetime\n",
    "import os\n",
    "import xarray\n",
    "import copy\n",
    "import seaborn as sns\n",
    "from datetime import date\n",
    "from scipy.stats import linregress\n",
    "from dateutil.relativedelta import relativedelta"
   ]
  },
  {
   "cell_type": "code",
   "execution_count": 2,
   "metadata": {},
   "outputs": [],
   "source": [
    "# Generates list of file names\n",
    "infiles = 'comfortcove.list'\n",
    "os.system('ls ~/Desktop/ComfortCove/*.rpf > ' + infiles)\n",
    "filelist = np.genfromtxt(infiles, dtype=str)\n",
    "filelist = np.reshape(filelist, filelist.size) "
   ]
  },
  {
   "cell_type": "code",
   "execution_count": 3,
   "metadata": {},
   "outputs": [
    {
     "name": "stdout",
     "output_type": "stream",
     "text": [
      "/Users/giuliabronzi/Desktop/ComfortCove/MTR_85_1989_05_16_trimmed.rpf is empty [ignore file]\n"
     ]
    }
   ],
   "source": [
    "#creates an array of data frames \n",
    "#each data frame has datetime index and column of temperatures\n",
    "dfs = []\n",
    "for fname in filelist: \n",
    "    try: \n",
    "        df = pd.read_csv(fname, sep='\\s+',  parse_dates={'datetime': [0, 1]}, header=16)\n",
    "        df = df.set_index('datetime')\n",
    "        df.columns = ['temperature']\n",
    "        df = df.replace(9999.99, np.NaN)\n",
    "        dfs.append(df)\n",
    "    except:\n",
    "        #empty files are ignored\n",
    "        print (fname + ' is empty [ignore file]')\n",
    "        continue"
   ]
  },
  {
   "cell_type": "markdown",
   "metadata": {},
   "source": [
    "This is an example of one of the dataframes in the array 'df', created above. Each row represents one hour from a day and there is one data frame for each file in the 'filelist'. "
   ]
  },
  {
   "cell_type": "code",
   "execution_count": 4,
   "metadata": {},
   "outputs": [
    {
     "name": "stdout",
     "output_type": "stream",
     "text": [
      "                     temperature\n",
      "datetime                        \n",
      "1993-12-02 17:00:00         2.30\n",
      "1993-12-02 18:00:00         2.25\n",
      "1993-12-02 19:00:00         2.25\n",
      "1993-12-02 20:00:00         2.25\n",
      "1993-12-02 21:00:00         2.20\n",
      "...                          ...\n",
      "1994-05-05 08:00:00        -0.10\n",
      "1994-05-05 09:00:00        -0.05\n",
      "1994-05-05 10:00:00        -0.05\n",
      "1994-05-05 11:00:00         1.25\n",
      "1994-05-05 12:00:00         0.55\n",
      "\n",
      "[3692 rows x 1 columns]\n"
     ]
    }
   ],
   "source": [
    "print(dfs[0])"
   ]
  },
  {
   "cell_type": "code",
   "execution_count": 5,
   "metadata": {},
   "outputs": [],
   "source": [
    "#concatenates all the data from each data frame in dfs\n",
    "df_all = pd.concat(dfs, axis=0)\n",
    "\n",
    "#we end up with a sorted dataframe, with all the data in a single dataframe \n",
    "df_all = df_all.sort_index()"
   ]
  },
  {
   "cell_type": "code",
   "execution_count": 6,
   "metadata": {},
   "outputs": [],
   "source": [
    "#will be used in a later section\n",
    "dfCopy = copy.deepcopy(df_all)"
   ]
  },
  {
   "cell_type": "markdown",
   "metadata": {},
   "source": [
    "## Removing Duplicates\n",
    "\n",
    "In some cases, there are two different temperature readings from a specific timestamp. For these duplicates, we use the resample method to find the maximum and minimum temperature, which we then use to calculate the mean temperature of that hour. \n",
    "\n",
    "For example, below we can see that there are four rows with the timestamp '1995-08-05 14:00' and two different recorded temperatures. So, we would find the max temp (8.25) and the min temp (7.45), and take the average. After we run all of our code, we should see that for this specific timestamp, we have a new temperature of 7.85. "
   ]
  },
  {
   "cell_type": "code",
   "execution_count": 7,
   "metadata": {},
   "outputs": [
    {
     "data": {
      "text/html": [
       "<div>\n",
       "<style scoped>\n",
       "    .dataframe tbody tr th:only-of-type {\n",
       "        vertical-align: middle;\n",
       "    }\n",
       "\n",
       "    .dataframe tbody tr th {\n",
       "        vertical-align: top;\n",
       "    }\n",
       "\n",
       "    .dataframe thead th {\n",
       "        text-align: right;\n",
       "    }\n",
       "</style>\n",
       "<table border=\"1\" class=\"dataframe\">\n",
       "  <thead>\n",
       "    <tr style=\"text-align: right;\">\n",
       "      <th></th>\n",
       "      <th>temperature</th>\n",
       "    </tr>\n",
       "    <tr>\n",
       "      <th>datetime</th>\n",
       "      <th></th>\n",
       "    </tr>\n",
       "  </thead>\n",
       "  <tbody>\n",
       "    <tr>\n",
       "      <th>1995-08-05 14:00:00</th>\n",
       "      <td>8.25</td>\n",
       "    </tr>\n",
       "    <tr>\n",
       "      <th>1995-08-05 14:00:00</th>\n",
       "      <td>7.45</td>\n",
       "    </tr>\n",
       "    <tr>\n",
       "      <th>1995-08-05 14:00:00</th>\n",
       "      <td>7.45</td>\n",
       "    </tr>\n",
       "    <tr>\n",
       "      <th>1995-08-05 14:00:00</th>\n",
       "      <td>8.25</td>\n",
       "    </tr>\n",
       "    <tr>\n",
       "      <th>1995-08-05 15:00:00</th>\n",
       "      <td>7.05</td>\n",
       "    </tr>\n",
       "    <tr>\n",
       "      <th>1995-08-05 15:00:00</th>\n",
       "      <td>6.85</td>\n",
       "    </tr>\n",
       "    <tr>\n",
       "      <th>1995-08-05 15:00:00</th>\n",
       "      <td>6.85</td>\n",
       "    </tr>\n",
       "    <tr>\n",
       "      <th>1995-08-05 15:00:00</th>\n",
       "      <td>7.05</td>\n",
       "    </tr>\n",
       "    <tr>\n",
       "      <th>1995-08-05 16:00:00</th>\n",
       "      <td>6.90</td>\n",
       "    </tr>\n",
       "    <tr>\n",
       "      <th>1995-08-05 16:00:00</th>\n",
       "      <td>7.00</td>\n",
       "    </tr>\n",
       "  </tbody>\n",
       "</table>\n",
       "</div>"
      ],
      "text/plain": [
       "                     temperature\n",
       "datetime                        \n",
       "1995-08-05 14:00:00         8.25\n",
       "1995-08-05 14:00:00         7.45\n",
       "1995-08-05 14:00:00         7.45\n",
       "1995-08-05 14:00:00         8.25\n",
       "1995-08-05 15:00:00         7.05\n",
       "1995-08-05 15:00:00         6.85\n",
       "1995-08-05 15:00:00         6.85\n",
       "1995-08-05 15:00:00         7.05\n",
       "1995-08-05 16:00:00         6.90\n",
       "1995-08-05 16:00:00         7.00"
      ]
     },
     "execution_count": 7,
     "metadata": {},
     "output_type": "execute_result"
    }
   ],
   "source": [
    "df_all[100000:100010]"
   ]
  },
  {
   "cell_type": "code",
   "execution_count": 8,
   "metadata": {},
   "outputs": [],
   "source": [
    "#sets temperature to the average (if not a duplicate, it doesn't affect temp)\n",
    "df_all['temperature'] = ((df_all.temperature.resample('H').max() + df_all.temperature.resample('H').min())/2)  "
   ]
  },
  {
   "cell_type": "code",
   "execution_count": 9,
   "metadata": {},
   "outputs": [
    {
     "data": {
      "text/plain": [
       "(357228,)"
      ]
     },
     "execution_count": 9,
     "metadata": {},
     "output_type": "execute_result"
    }
   ],
   "source": [
    "df_all.index.shape"
   ]
  },
  {
   "cell_type": "code",
   "execution_count": 10,
   "metadata": {},
   "outputs": [],
   "source": [
    "#makes datetime a column again so its easier to delete duplicates\n",
    "df_all = df_all.reset_index()"
   ]
  },
  {
   "cell_type": "code",
   "execution_count": 11,
   "metadata": {},
   "outputs": [],
   "source": [
    "#drops datetime duplicates\n",
    "df_all = df_all.drop_duplicates(subset='datetime')"
   ]
  },
  {
   "cell_type": "code",
   "execution_count": 12,
   "metadata": {},
   "outputs": [],
   "source": [
    "#resets index to datetime\n",
    "df_all = df_all.set_index('datetime')"
   ]
  },
  {
   "cell_type": "code",
   "execution_count": 13,
   "metadata": {},
   "outputs": [
    {
     "data": {
      "text/html": [
       "<div>\n",
       "<style scoped>\n",
       "    .dataframe tbody tr th:only-of-type {\n",
       "        vertical-align: middle;\n",
       "    }\n",
       "\n",
       "    .dataframe tbody tr th {\n",
       "        vertical-align: top;\n",
       "    }\n",
       "\n",
       "    .dataframe thead th {\n",
       "        text-align: right;\n",
       "    }\n",
       "</style>\n",
       "<table border=\"1\" class=\"dataframe\">\n",
       "  <thead>\n",
       "    <tr style=\"text-align: right;\">\n",
       "      <th></th>\n",
       "      <th>temperature</th>\n",
       "    </tr>\n",
       "    <tr>\n",
       "      <th>datetime</th>\n",
       "      <th></th>\n",
       "    </tr>\n",
       "  </thead>\n",
       "  <tbody>\n",
       "    <tr>\n",
       "      <th>1995-08-05 13:00:00</th>\n",
       "      <td>9.300</td>\n",
       "    </tr>\n",
       "    <tr>\n",
       "      <th>1995-08-05 14:00:00</th>\n",
       "      <td>7.850</td>\n",
       "    </tr>\n",
       "    <tr>\n",
       "      <th>1995-08-05 15:00:00</th>\n",
       "      <td>6.950</td>\n",
       "    </tr>\n",
       "    <tr>\n",
       "      <th>1995-08-05 16:00:00</th>\n",
       "      <td>6.950</td>\n",
       "    </tr>\n",
       "    <tr>\n",
       "      <th>1995-08-05 17:00:00</th>\n",
       "      <td>7.575</td>\n",
       "    </tr>\n",
       "    <tr>\n",
       "      <th>1995-08-05 18:00:00</th>\n",
       "      <td>7.175</td>\n",
       "    </tr>\n",
       "  </tbody>\n",
       "</table>\n",
       "</div>"
      ],
      "text/plain": [
       "                     temperature\n",
       "datetime                        \n",
       "1995-08-05 13:00:00        9.300\n",
       "1995-08-05 14:00:00        7.850\n",
       "1995-08-05 15:00:00        6.950\n",
       "1995-08-05 16:00:00        6.950\n",
       "1995-08-05 17:00:00        7.575\n",
       "1995-08-05 18:00:00        7.175"
      ]
     },
     "execution_count": 13,
     "metadata": {},
     "output_type": "execute_result"
    }
   ],
   "source": [
    "df_all[54274:54280]"
   ]
  },
  {
   "cell_type": "markdown",
   "metadata": {},
   "source": [
    "Here we can see that the duplicates have been removed and the temperature for '1995-08-05 14:00' is 7.85 degrees, as stated above."
   ]
  },
  {
   "cell_type": "code",
   "execution_count": 14,
   "metadata": {},
   "outputs": [
    {
     "data": {
      "text/plain": [
       "(172113,)"
      ]
     },
     "execution_count": 14,
     "metadata": {},
     "output_type": "execute_result"
    }
   ],
   "source": [
    "df_all.index.shape"
   ]
  },
  {
   "cell_type": "markdown",
   "metadata": {},
   "source": [
    "Initially, df_all had 357228 rows, but after we delete the duplicates we are left with 172113."
   ]
  },
  {
   "cell_type": "markdown",
   "metadata": {},
   "source": [
    "### Why we chose to remove duplicates this way:\n",
    "\n",
    "When we remove duplicates, we take the average observed temperature for that timestamp. We chose to do it this way because 95.4% of the timestamps have a temperature difference less than one. Of those, ~40% have a temperature difference of zero. Thus, we felt it would not drastically alter our results by taking the average temperature. While there are some timestamps with a larger difference, it is a very small proportion of the data. We will look at the temperature differences in more detail below, with the help of the resample method and histograms. \n",
    "\n",
    "The dataframe we use in this section, 'dfCopy', is the same as 'df_all', except, instead of taking the average temperature for duplicates, we find the temperature difference between duplicates. Because of this, the values in the temperature column for dfCopy are not the same as the values in df_all, but, we will only be looking at the timestamps and 'diff' column. We then delete the duplicates and are left with a dataframe of the same size as df_all. "
   ]
  },
  {
   "cell_type": "code",
   "execution_count": 15,
   "metadata": {},
   "outputs": [],
   "source": [
    "#resamples per hour and finds the difference between the max and min for each timestamp\n",
    "dfCopy['diff'] = (dfCopy.temperature.resample('H').max() - dfCopy.temperature.resample('H').min()) "
   ]
  },
  {
   "cell_type": "code",
   "execution_count": 16,
   "metadata": {},
   "outputs": [],
   "source": [
    "#deletes duplicates the same as before\n",
    "dfCopy = dfCopy.reset_index()\n",
    "dfCopy = dfCopy.drop_duplicates(subset='datetime')\n",
    "dfCopy = dfCopy.set_index('datetime')"
   ]
  },
  {
   "cell_type": "markdown",
   "metadata": {},
   "source": [
    "**Note**: If the timestamp does not have a duplicate, the max and min will be the same, and therefore the difference will be zero.   \n",
    "\n",
    "So, in cases where the difference is zero, the two possible scenarios are:\n",
    "1. The timestamp does not have a duplicate.\n",
    "2. The timestamp has a duplicate, but the recorded temperature is the same for all duplicates."
   ]
  },
  {
   "cell_type": "code",
   "execution_count": 17,
   "metadata": {},
   "outputs": [
    {
     "data": {
      "text/html": [
       "<div>\n",
       "<style scoped>\n",
       "    .dataframe tbody tr th:only-of-type {\n",
       "        vertical-align: middle;\n",
       "    }\n",
       "\n",
       "    .dataframe tbody tr th {\n",
       "        vertical-align: top;\n",
       "    }\n",
       "\n",
       "    .dataframe thead th {\n",
       "        text-align: right;\n",
       "    }\n",
       "</style>\n",
       "<table border=\"1\" class=\"dataframe\">\n",
       "  <thead>\n",
       "    <tr style=\"text-align: right;\">\n",
       "      <th></th>\n",
       "      <th>temperature</th>\n",
       "      <th>diff</th>\n",
       "    </tr>\n",
       "    <tr>\n",
       "      <th>datetime</th>\n",
       "      <th></th>\n",
       "      <th></th>\n",
       "    </tr>\n",
       "  </thead>\n",
       "  <tbody>\n",
       "    <tr>\n",
       "      <th>1989-05-16 03:00:00</th>\n",
       "      <td>5.20</td>\n",
       "      <td>0.0</td>\n",
       "    </tr>\n",
       "    <tr>\n",
       "      <th>1989-05-16 04:00:00</th>\n",
       "      <td>4.50</td>\n",
       "      <td>0.0</td>\n",
       "    </tr>\n",
       "    <tr>\n",
       "      <th>1989-05-16 05:00:00</th>\n",
       "      <td>3.80</td>\n",
       "      <td>0.0</td>\n",
       "    </tr>\n",
       "    <tr>\n",
       "      <th>1989-05-16 06:00:00</th>\n",
       "      <td>3.40</td>\n",
       "      <td>0.0</td>\n",
       "    </tr>\n",
       "    <tr>\n",
       "      <th>1989-05-16 07:00:00</th>\n",
       "      <td>3.10</td>\n",
       "      <td>0.0</td>\n",
       "    </tr>\n",
       "    <tr>\n",
       "      <th>...</th>\n",
       "      <td>...</td>\n",
       "      <td>...</td>\n",
       "    </tr>\n",
       "    <tr>\n",
       "      <th>2019-10-23 14:00:00</th>\n",
       "      <td>8.68</td>\n",
       "      <td>0.0</td>\n",
       "    </tr>\n",
       "    <tr>\n",
       "      <th>2019-10-23 15:00:00</th>\n",
       "      <td>8.62</td>\n",
       "      <td>0.0</td>\n",
       "    </tr>\n",
       "    <tr>\n",
       "      <th>2019-10-23 16:00:00</th>\n",
       "      <td>8.62</td>\n",
       "      <td>0.0</td>\n",
       "    </tr>\n",
       "    <tr>\n",
       "      <th>2019-10-23 17:00:00</th>\n",
       "      <td>8.67</td>\n",
       "      <td>0.0</td>\n",
       "    </tr>\n",
       "    <tr>\n",
       "      <th>2019-10-23 18:00:00</th>\n",
       "      <td>8.66</td>\n",
       "      <td>0.0</td>\n",
       "    </tr>\n",
       "  </tbody>\n",
       "</table>\n",
       "<p>101106 rows × 2 columns</p>\n",
       "</div>"
      ],
      "text/plain": [
       "                     temperature  diff\n",
       "datetime                              \n",
       "1989-05-16 03:00:00         5.20   0.0\n",
       "1989-05-16 04:00:00         4.50   0.0\n",
       "1989-05-16 05:00:00         3.80   0.0\n",
       "1989-05-16 06:00:00         3.40   0.0\n",
       "1989-05-16 07:00:00         3.10   0.0\n",
       "...                          ...   ...\n",
       "2019-10-23 14:00:00         8.68   0.0\n",
       "2019-10-23 15:00:00         8.62   0.0\n",
       "2019-10-23 16:00:00         8.62   0.0\n",
       "2019-10-23 17:00:00         8.67   0.0\n",
       "2019-10-23 18:00:00         8.66   0.0\n",
       "\n",
       "[101106 rows x 2 columns]"
      ]
     },
     "execution_count": 17,
     "metadata": {},
     "output_type": "execute_result"
    }
   ],
   "source": [
    "#all rows where the difference is zero\n",
    "dfCopy[dfCopy['diff'] == 0]"
   ]
  },
  {
   "cell_type": "markdown",
   "metadata": {},
   "source": [
    "Here we can see that 58% (101106/172113) of all the data (after duplicates have been deleted) have a difference of zero.  \n",
    "\n",
    "Below, we can see a histogram that helps show the distribution of duplicate differences. The majority fall between zero and one degrees, but there are 1884 rows (~1%) that have a difference greater than 2 degrees. "
   ]
  },
  {
   "cell_type": "code",
   "execution_count": 18,
   "metadata": {},
   "outputs": [
    {
     "data": {
      "image/png": "[encoded data removed]",
      "text/plain": [
       "<Figure size 432x288 with 1 Axes>"
      ]
     },
     "metadata": {
      "needs_background": "light"
     },
     "output_type": "display_data"
    }
   ],
   "source": [
    "dfCopy.hist(column = \"diff\")\n",
    "plt.title(\"Temperature Differences\")\n",
    "plt.show()"
   ]
  },
  {
   "cell_type": "code",
   "execution_count": 19,
   "metadata": {},
   "outputs": [
    {
     "data": {
      "image/png": "[encoded data removed]",
      "text/plain": [
       "<Figure size 432x288 with 1 Axes>"
      ]
     },
     "metadata": {
      "needs_background": "light"
     },
     "output_type": "display_data"
    }
   ],
   "source": [
    "dfCopy.hist(column = \"diff\", bins= [0,0.2,0.4,0.6,0.8,1])\n",
    "plt.title(\"Differences Less Than 1 Degree\")\n",
    "plt.show()"
   ]
  },
  {
   "cell_type": "markdown",
   "metadata": {},
   "source": [
    "If we zoom into the differences that are less than 1, we can see that the majority fall between 0 and 0.2 degrees. \n",
    "\n",
    "Again, we are looking at all the rows (even ones that don't have duplicates) so a proportion of the results in this interval are due to the zeroes we get from the non-duplicates. But, even if we were to ignore these non-duplicates, we can the see that the differences tend towards smaller numbers. "
   ]
  },
  {
   "cell_type": "markdown",
   "metadata": {},
   "source": [
    "When we zoom into the differences greater than 1, we can also see that the results are skewed towards smaller differences. The largest difference in this dataset is 9.4 degrees, but there are only 7 rows (0.004%) where the temperature difference is greater than 9.\n",
    "\n",
    "**Note**: The upper bound on the histogram below is ~1,000 while the upper bound on the above histogram is ~150,000."
   ]
  },
  {
   "cell_type": "code",
   "execution_count": 20,
   "metadata": {},
   "outputs": [
    {
     "data": {
      "image/png": "[encoded data removed]",
      "text/plain": [
       "<Figure size 432x288 with 1 Axes>"
      ]
     },
     "metadata": {
      "needs_background": "light"
     },
     "output_type": "display_data"
    }
   ],
   "source": [
    "dfCopy.hist(column = \"diff\", bins= [1,1.5,2,2.5,3,3.5,4,4.5, 5, 5.5, 6, 6.5, 7, 7.5, 8, 8.5,9,9.5,10])\n",
    "plt.title(\"Temp differences greater than 1 degree\")\n",
    "plt.show()"
   ]
  },
  {
   "cell_type": "markdown",
   "metadata": {},
   "source": [
    "In conclusion, we decided to average the temperature for duplicated timestamps because most of the timestamps have a difference below one degree celcius. While there are some duplicates with a larger difference, they only account for a very small proportion. \n",
    "\n",
    "We will continue to look into why some timestamps have a much larger duplicate difference than other timestamps in the future. "
   ]
  },
  {
   "cell_type": "markdown",
   "metadata": {},
   "source": [
    "## Extracting File Headers\n",
    "\n",
    "Each file has a header with pertinent information to the file. In total, there are 14 different header components, they can be seen below."
   ]
  },
  {
   "cell_type": "code",
   "execution_count": 21,
   "metadata": {},
   "outputs": [],
   "source": [
    "dfsHeader = [] \n",
    "\n",
    "#creates an array of dataframes, one df for each file \n",
    "#each dataframe holds the header info\n",
    "for fname in filelist:\n",
    "    dfH = pd.read_csv(fname, nrows = 14)\n",
    "    headerValue = dfH[\"HEADER\"].str.split(\"=\", expand = True)\n",
    "    dfH[\"Title\"] = headerValue[0] #title --> header component, ex: site_name\n",
    "    dfH[\"Value\"] = headerValue[1] #value --> header value, ex: Comfort Cove\n",
    "    dfH = dfH[['Title',\"Value\"]]\n",
    "    dfsHeader.append(dfH)"
   ]
  },
  {
   "cell_type": "markdown",
   "metadata": {},
   "source": [
    "Here we can see the header information for the first file in the Comfort Cove site folder."
   ]
  },
  {
   "cell_type": "code",
   "execution_count": 22,
   "metadata": {},
   "outputs": [
    {
     "data": {
      "text/plain": [
       "[                   Title                   Value\n",
       " 0                STATION                     118\n",
       " 1              SITE_NAME                    null\n",
       " 2             START_DATE              1993-12-02\n",
       " 3             START_TIME             16:00:00.00\n",
       " 4               END_DATE              1994-05-05\n",
       " 5               END_TIME             12:00:00.00\n",
       " 6               LATITUDE                   49.41\n",
       " 7              LONGITUDE                   54.83\n",
       " 8              INST_TYPE             SEAMONUTR-B\n",
       " 9          SERIAL_NUMBER                  007819\n",
       " 10           WATER_DEPTH                    9.00\n",
       " 11            INST_DEPTH                    9.00\n",
       " 12     SAMPLING_INTERVAL               3600.0000\n",
       " 13             FILE_NAME  MTR_100_1993_12_02.rpf]"
      ]
     },
     "execution_count": 22,
     "metadata": {},
     "output_type": "execute_result"
    }
   ],
   "source": [
    "dfsHeader[:1] #first header in the array"
   ]
  },
  {
   "cell_type": "code",
   "execution_count": 23,
   "metadata": {},
   "outputs": [],
   "source": [
    "#fourteen arrays, one for each header component, will be used to make a dataframe\n",
    "station = []\n",
    "siteName = []\n",
    "startDate = []\n",
    "startTime = []\n",
    "endDate = []\n",
    "endTime = []\n",
    "latitude = []\n",
    "longitude = []\n",
    "instType = []\n",
    "serialNumber = []\n",
    "waterDepth = []\n",
    "instDepth = []\n",
    "samplingInterval = []\n",
    "fileName = []\n",
    "\n",
    "count = 0\n",
    "\n",
    "#for each file, extracts the header value from the correct index\n",
    "#adds each value to correlated array\n",
    "for file in dfsHeader:\n",
    "    station.append(dfsHeader[count][\"Value\"][0])\n",
    "    siteName.append(dfsHeader[count][\"Value\"][1])\n",
    "    startDate.append(dfsHeader[count][\"Value\"][2])\n",
    "    startTime.append(dfsHeader[count][\"Value\"][3])\n",
    "    endDate.append(dfsHeader[count][\"Value\"][4])\n",
    "    endTime.append(dfsHeader[count][\"Value\"][5])\n",
    "    latitude.append(dfsHeader[count][\"Value\"][6])\n",
    "    longitude.append(dfsHeader[count][\"Value\"][7])\n",
    "    instType.append(dfsHeader[count][\"Value\"][8])\n",
    "    serialNumber.append(dfsHeader[count][\"Value\"][9])\n",
    "    waterDepth.append(dfsHeader[count][\"Value\"][10])\n",
    "    instDepth.append(dfsHeader[count][\"Value\"][11])\n",
    "    samplingInterval.append(dfsHeader[count][\"Value\"][12])\n",
    "    fileName.append(dfsHeader[count][\"Value\"][13])\n",
    "    count += 1"
   ]
  },
  {
   "cell_type": "code",
   "execution_count": 24,
   "metadata": {},
   "outputs": [],
   "source": [
    "#creates new dataframe based on the arrays created above\n",
    "headers = {'Station': station,\n",
    "           'SiteName': siteName,\n",
    "           'StartDate': startDate,\n",
    "           'StartTime': startTime,\n",
    "           'EndDate': endDate,\n",
    "           'EndTime': endTime,\n",
    "           'Latitude': latitude,\n",
    "           'Longitude': longitude,\n",
    "           'InstType': instType,\n",
    "           'SerialNumber': serialNumber,\n",
    "           'WaterDepth': waterDepth,\n",
    "           'InstDepth': instDepth,\n",
    "           'SamplingInterval': samplingInterval,\n",
    "           'FileName': fileName}\n",
    "\n",
    "headersdf = pd.DataFrame(headers, columns = ['Station', 'SiteName', 'StartDate', 'StartTime', 'EndDate', \n",
    "                                             'EndTime','Latitude', 'Longitude',  'InstType', 'SerialNumber',\n",
    "                                             'WaterDepth','InstDepth', 'SamplingInterval', 'FileName'])"
   ]
  },
  {
   "cell_type": "code",
   "execution_count": 25,
   "metadata": {},
   "outputs": [],
   "source": [
    "#sorts by start date and end date\n",
    "headersdf = headersdf.sort_values(by=['StartDate', 'EndDate'])\n",
    "headersdf = headersdf.reset_index(drop = True)"
   ]
  },
  {
   "cell_type": "code",
   "execution_count": 26,
   "metadata": {
    "scrolled": true
   },
   "outputs": [
    {
     "data": {
      "text/html": [
       "<div>\n",
       "<style scoped>\n",
       "    .dataframe tbody tr th:only-of-type {\n",
       "        vertical-align: middle;\n",
       "    }\n",
       "\n",
       "    .dataframe tbody tr th {\n",
       "        vertical-align: top;\n",
       "    }\n",
       "\n",
       "    .dataframe thead th {\n",
       "        text-align: right;\n",
       "    }\n",
       "</style>\n",
       "<table border=\"1\" class=\"dataframe\">\n",
       "  <thead>\n",
       "    <tr style=\"text-align: right;\">\n",
       "      <th></th>\n",
       "      <th>Station</th>\n",
       "      <th>SiteName</th>\n",
       "      <th>StartDate</th>\n",
       "      <th>StartTime</th>\n",
       "      <th>EndDate</th>\n",
       "      <th>EndTime</th>\n",
       "      <th>Latitude</th>\n",
       "      <th>Longitude</th>\n",
       "      <th>InstType</th>\n",
       "      <th>SerialNumber</th>\n",
       "      <th>WaterDepth</th>\n",
       "      <th>InstDepth</th>\n",
       "      <th>SamplingInterval</th>\n",
       "      <th>FileName</th>\n",
       "    </tr>\n",
       "  </thead>\n",
       "  <tbody>\n",
       "    <tr>\n",
       "      <th>0</th>\n",
       "      <td>118</td>\n",
       "      <td>COMFORT COVE</td>\n",
       "      <td>1989-05-16</td>\n",
       "      <td>02:00:00</td>\n",
       "      <td>1989-09-26</td>\n",
       "      <td>14:00:00</td>\n",
       "      <td>49.41</td>\n",
       "      <td>54.83</td>\n",
       "      <td>null</td>\n",
       "      <td>3264</td>\n",
       "      <td>9</td>\n",
       "      <td>null</td>\n",
       "      <td>null</td>\n",
       "      <td>MTR_30_1989_05_16.rpf</td>\n",
       "    </tr>\n",
       "    <tr>\n",
       "      <th>1</th>\n",
       "      <td>118</td>\n",
       "      <td>null</td>\n",
       "      <td>1989-05-16</td>\n",
       "      <td>02:00:00.00</td>\n",
       "      <td>1990-04-19</td>\n",
       "      <td>12:00:00.00</td>\n",
       "      <td>49.41</td>\n",
       "      <td>54.83</td>\n",
       "      <td>SEAMONUTR-B</td>\n",
       "      <td>003264</td>\n",
       "      <td>9.00</td>\n",
       "      <td>9.00</td>\n",
       "      <td>3600.0000</td>\n",
       "      <td>MTR_85_1989_05_16.rpf</td>\n",
       "    </tr>\n",
       "    <tr>\n",
       "      <th>2</th>\n",
       "      <td>118</td>\n",
       "      <td>COMFORT COVE</td>\n",
       "      <td>1989-09-26</td>\n",
       "      <td>13:00:00</td>\n",
       "      <td>1989-11-25</td>\n",
       "      <td>14:00:00</td>\n",
       "      <td>49.41</td>\n",
       "      <td>54.83</td>\n",
       "      <td>null</td>\n",
       "      <td>4361</td>\n",
       "      <td>9</td>\n",
       "      <td>null</td>\n",
       "      <td>null</td>\n",
       "      <td>MTR_31_1989_09_26.rpf</td>\n",
       "    </tr>\n",
       "    <tr>\n",
       "      <th>3</th>\n",
       "      <td>118</td>\n",
       "      <td>null</td>\n",
       "      <td>1989-09-26</td>\n",
       "      <td>13:00:00.00</td>\n",
       "      <td>1989-11-25</td>\n",
       "      <td>14:00:00.00</td>\n",
       "      <td>49.41</td>\n",
       "      <td>54.83</td>\n",
       "      <td>SEAMONUTR-B</td>\n",
       "      <td>004361</td>\n",
       "      <td>9.00</td>\n",
       "      <td>9.00</td>\n",
       "      <td>3600.0000</td>\n",
       "      <td>MTR_86_1989_09_26.rpf</td>\n",
       "    </tr>\n",
       "    <tr>\n",
       "      <th>4</th>\n",
       "      <td>118</td>\n",
       "      <td>COMFORT COVE</td>\n",
       "      <td>1989-11-25</td>\n",
       "      <td>15:00:00</td>\n",
       "      <td>1990-04-19</td>\n",
       "      <td>12:00:00</td>\n",
       "      <td>49.41</td>\n",
       "      <td>54.83</td>\n",
       "      <td>null</td>\n",
       "      <td>003264</td>\n",
       "      <td>09</td>\n",
       "      <td>null</td>\n",
       "      <td>null</td>\n",
       "      <td>MTR_32_1989_11_25.rpf</td>\n",
       "    </tr>\n",
       "    <tr>\n",
       "      <th>...</th>\n",
       "      <td>...</td>\n",
       "      <td>...</td>\n",
       "      <td>...</td>\n",
       "      <td>...</td>\n",
       "      <td>...</td>\n",
       "      <td>...</td>\n",
       "      <td>...</td>\n",
       "      <td>...</td>\n",
       "      <td>...</td>\n",
       "      <td>...</td>\n",
       "      <td>...</td>\n",
       "      <td>...</td>\n",
       "      <td>...</td>\n",
       "      <td>...</td>\n",
       "    </tr>\n",
       "    <tr>\n",
       "      <th>109</th>\n",
       "      <td>null</td>\n",
       "      <td>Comfort Cove</td>\n",
       "      <td>2015-05-20</td>\n",
       "      <td>13:00:00</td>\n",
       "      <td>2015-10-29</td>\n",
       "      <td>13:00:00</td>\n",
       "      <td>null</td>\n",
       "      <td>null</td>\n",
       "      <td>Minilog-II-T</td>\n",
       "      <td>356307</td>\n",
       "      <td>null</td>\n",
       "      <td>null</td>\n",
       "      <td>01:00:00</td>\n",
       "      <td>MTR_80_2015_05_20.rpf</td>\n",
       "    </tr>\n",
       "    <tr>\n",
       "      <th>110</th>\n",
       "      <td>null</td>\n",
       "      <td>Comfort Cove</td>\n",
       "      <td>2016-05-22</td>\n",
       "      <td>18:00:00</td>\n",
       "      <td>2016-11-26</td>\n",
       "      <td>16:00:00</td>\n",
       "      <td>null</td>\n",
       "      <td>null</td>\n",
       "      <td>Minilog-II-T</td>\n",
       "      <td>355659</td>\n",
       "      <td>null</td>\n",
       "      <td>null</td>\n",
       "      <td>01:00:00</td>\n",
       "      <td>MTR_79_2016_05_22.rpf</td>\n",
       "    </tr>\n",
       "    <tr>\n",
       "      <th>111</th>\n",
       "      <td>null</td>\n",
       "      <td>Comfort Cove</td>\n",
       "      <td>2017-06-08</td>\n",
       "      <td>12:00:00</td>\n",
       "      <td>2017-11-27</td>\n",
       "      <td>19:00:00</td>\n",
       "      <td>null</td>\n",
       "      <td>null</td>\n",
       "      <td>Minilog-II-T</td>\n",
       "      <td>351103</td>\n",
       "      <td>null</td>\n",
       "      <td>null</td>\n",
       "      <td>01:00:00</td>\n",
       "      <td>MTR_75_2017_06_08.rpf</td>\n",
       "    </tr>\n",
       "    <tr>\n",
       "      <th>112</th>\n",
       "      <td>null</td>\n",
       "      <td>Comfort Cove</td>\n",
       "      <td>2018-05-21</td>\n",
       "      <td>18:39:38</td>\n",
       "      <td>2018-11-28</td>\n",
       "      <td>15:39:38</td>\n",
       "      <td>null</td>\n",
       "      <td>null</td>\n",
       "      <td>Minilog-II-T</td>\n",
       "      <td>354547</td>\n",
       "      <td>null</td>\n",
       "      <td>null</td>\n",
       "      <td>01:00:00</td>\n",
       "      <td>MTR_77_2018_05_21.rpf</td>\n",
       "    </tr>\n",
       "    <tr>\n",
       "      <th>113</th>\n",
       "      <td>null</td>\n",
       "      <td>Comfort Cove -</td>\n",
       "      <td>2019-05-14</td>\n",
       "      <td>17:00:00</td>\n",
       "      <td>2020-10-23</td>\n",
       "      <td>18:00:00</td>\n",
       "      <td>null</td>\n",
       "      <td>null</td>\n",
       "      <td>Minilog-II-T</td>\n",
       "      <td>354547</td>\n",
       "      <td>null</td>\n",
       "      <td>null</td>\n",
       "      <td>01:00:00</td>\n",
       "      <td>MTR_78_2019_05_14.rpf</td>\n",
       "    </tr>\n",
       "  </tbody>\n",
       "</table>\n",
       "<p>114 rows × 14 columns</p>\n",
       "</div>"
      ],
      "text/plain": [
       "    Station        SiteName   StartDate    StartTime     EndDate      EndTime  \\\n",
       "0       118    COMFORT COVE  1989-05-16     02:00:00  1989-09-26     14:00:00   \n",
       "1       118            null  1989-05-16  02:00:00.00  1990-04-19  12:00:00.00   \n",
       "2       118    COMFORT COVE  1989-09-26     13:00:00  1989-11-25     14:00:00   \n",
       "3       118            null  1989-09-26  13:00:00.00  1989-11-25  14:00:00.00   \n",
       "4       118    COMFORT COVE  1989-11-25     15:00:00  1990-04-19     12:00:00   \n",
       "..      ...             ...         ...          ...         ...          ...   \n",
       "109    null    Comfort Cove  2015-05-20     13:00:00  2015-10-29     13:00:00   \n",
       "110    null    Comfort Cove  2016-05-22     18:00:00  2016-11-26     16:00:00   \n",
       "111    null    Comfort Cove  2017-06-08     12:00:00  2017-11-27     19:00:00   \n",
       "112    null    Comfort Cove  2018-05-21     18:39:38  2018-11-28     15:39:38   \n",
       "113    null  Comfort Cove -  2019-05-14     17:00:00  2020-10-23     18:00:00   \n",
       "\n",
       "    Latitude Longitude      InstType SerialNumber WaterDepth InstDepth  \\\n",
       "0      49.41     54.83          null         3264          9      null   \n",
       "1      49.41     54.83   SEAMONUTR-B       003264       9.00      9.00   \n",
       "2      49.41     54.83          null         4361          9      null   \n",
       "3      49.41     54.83   SEAMONUTR-B       004361       9.00      9.00   \n",
       "4      49.41     54.83          null       003264         09      null   \n",
       "..       ...       ...           ...          ...        ...       ...   \n",
       "109     null      null  Minilog-II-T       356307       null      null   \n",
       "110     null      null  Minilog-II-T       355659       null      null   \n",
       "111     null      null  Minilog-II-T       351103       null      null   \n",
       "112     null      null  Minilog-II-T       354547       null      null   \n",
       "113     null      null  Minilog-II-T       354547       null      null   \n",
       "\n",
       "    SamplingInterval               FileName  \n",
       "0               null  MTR_30_1989_05_16.rpf  \n",
       "1          3600.0000  MTR_85_1989_05_16.rpf  \n",
       "2               null  MTR_31_1989_09_26.rpf  \n",
       "3          3600.0000  MTR_86_1989_09_26.rpf  \n",
       "4               null  MTR_32_1989_11_25.rpf  \n",
       "..               ...                    ...  \n",
       "109         01:00:00  MTR_80_2015_05_20.rpf  \n",
       "110         01:00:00  MTR_79_2016_05_22.rpf  \n",
       "111         01:00:00  MTR_75_2017_06_08.rpf  \n",
       "112         01:00:00  MTR_77_2018_05_21.rpf  \n",
       "113         01:00:00  MTR_78_2019_05_14.rpf  \n",
       "\n",
       "[114 rows x 14 columns]"
      ]
     },
     "execution_count": 26,
     "metadata": {},
     "output_type": "execute_result"
    }
   ],
   "source": [
    "#dataframe where each column is a component of the header\n",
    "#each row is an individual file\n",
    "headersdf"
   ]
  },
  {
   "cell_type": "markdown",
   "metadata": {},
   "source": [
    "One thing the header information is useful for is for verifying all the files in the folder are in the right place and that there are no values that shouldn't be there. Below, we can see that the site names for all the files are related to Comfort Cove."
   ]
  },
  {
   "cell_type": "code",
   "execution_count": 27,
   "metadata": {},
   "outputs": [
    {
     "data": {
      "text/plain": [
       "array(['COMFORT COVE', 'null', 'COMFORT COVE NOTRE DAME BAY',\n",
       "       'Comfort Cove', 'Comfort Cove Sept', '', 'Comfort Cove -'],\n",
       "      dtype=object)"
      ]
     },
     "execution_count": 27,
     "metadata": {},
     "output_type": "execute_result"
    }
   ],
   "source": [
    "#checking that the values are valid\n",
    "headersdf['SiteName'].unique()"
   ]
  },
  {
   "cell_type": "markdown",
   "metadata": {},
   "source": [
    "## Converting to netCDF File \n",
    "\n",
    "In this section, we take the header information extracted above, and create a dataset that we then convert to a netCDF file. \n",
    "\n",
    "For the netCDF file, the dimension is based on the datetime index and the data variable is based on the temperature column. The attributes for the file are the components found in the header. "
   ]
  },
  {
   "cell_type": "code",
   "execution_count": 28,
   "metadata": {},
   "outputs": [],
   "source": [
    "#converting dataframe to dataset\n",
    "xr = xarray.Dataset.from_dataframe(df_all)\n",
    "\n",
    "#attribute values\n",
    "station = str(headersdf['Station'].unique())\n",
    "siteName = str(headersdf['SiteName'].unique())\n",
    "start = str((headersdf['StartDate'] + ' ' + headersdf['StartTime']).values)\n",
    "end = str((headersdf['EndDate'] + ' ' + headersdf['EndTime']).values)\n",
    "latitude = str(headersdf['Latitude'].unique())\n",
    "longitude = str(headersdf['Longitude'].unique())\n",
    "instType = str(headersdf['InstType'].unique())\n",
    "serialNumber = str(headersdf['SerialNumber'].unique())\n",
    "waterDepth = str(headersdf['WaterDepth'].unique())\n",
    "instDepth = str(headersdf['InstDepth'].unique())\n",
    "samplingInterval = str(headersdf['SamplingInterval'].unique())\n",
    "fileName = str(headersdf['FileName'].unique())\n",
    "\n",
    "\n",
    "#sets the attributes\n",
    "xr.attrs={'Station': station, 'SiteName': siteName, 'Start': start,'End': end,'Latitude': latitude,\n",
    "          'Longitude': longitude, 'InstType': instType,'SerialNumber': serialNumber, \n",
    "          'WaterDepth': waterDepth,'InstDepth': instDepth,'SamplingInterval': samplingInterval,'FileName': fileName }"
   ]
  },
  {
   "cell_type": "code",
   "execution_count": 29,
   "metadata": {},
   "outputs": [],
   "source": [
    "xr['temperature'].attrs={'units':'Celcius'}"
   ]
  },
  {
   "cell_type": "code",
   "execution_count": 30,
   "metadata": {},
   "outputs": [
    {
     "data": {
      "text/html": [
       "<div><svg style=\"position: absolute; width: 0; height: 0; overflow: hidden\">\n",
       "<defs>\n",
       "<symbol id=\"icon-database\" viewBox=\"0 0 32 32\">\n",
       "<title>Show/Hide data repr</title>\n",
       "<path d=\"M16 0c-8.837 0-16 2.239-16 5v4c0 2.761 7.163 5 16 5s16-2.239 16-5v-4c0-2.761-7.163-5-16-5z\"></path>\n",
       "<path d=\"M16 17c-8.837 0-16-2.239-16-5v6c0 2.761 7.163 5 16 5s16-2.239 16-5v-6c0 2.761-7.163 5-16 5z\"></path>\n",
       "<path d=\"M16 26c-8.837 0-16-2.239-16-5v6c0 2.761 7.163 5 16 5s16-2.239 16-5v-6c0 2.761-7.163 5-16 5z\"></path>\n",
       "</symbol>\n",
       "<symbol id=\"icon-file-text2\" viewBox=\"0 0 32 32\">\n",
       "<title>Show/Hide attributes</title>\n",
       "<path d=\"M28.681 7.159c-0.694-0.947-1.662-2.053-2.724-3.116s-2.169-2.030-3.116-2.724c-1.612-1.182-2.393-1.319-2.841-1.319h-15.5c-1.378 0-2.5 1.121-2.5 2.5v27c0 1.378 1.122 2.5 2.5 2.5h23c1.378 0 2.5-1.122 2.5-2.5v-19.5c0-0.448-0.137-1.23-1.319-2.841zM24.543 5.457c0.959 0.959 1.712 1.825 2.268 2.543h-4.811v-4.811c0.718 0.556 1.584 1.309 2.543 2.268zM28 29.5c0 0.271-0.229 0.5-0.5 0.5h-23c-0.271 0-0.5-0.229-0.5-0.5v-27c0-0.271 0.229-0.5 0.5-0.5 0 0 15.499-0 15.5 0v7c0 0.552 0.448 1 1 1h7v19.5z\"></path>\n",
       "<path d=\"M23 26h-14c-0.552 0-1-0.448-1-1s0.448-1 1-1h14c0.552 0 1 0.448 1 1s-0.448 1-1 1z\"></path>\n",
       "<path d=\"M23 22h-14c-0.552 0-1-0.448-1-1s0.448-1 1-1h14c0.552 0 1 0.448 1 1s-0.448 1-1 1z\"></path>\n",
       "<path d=\"M23 18h-14c-0.552 0-1-0.448-1-1s0.448-1 1-1h14c0.552 0 1 0.448 1 1s-0.448 1-1 1z\"></path>\n",
       "</symbol>\n",
       "</defs>\n",
       "</svg>\n",
       "<style>/* CSS stylesheet for displaying xarray objects in jupyterlab.\n",
       " *\n",
       " */\n",
       "\n",
       ":root {\n",
       "  --xr-font-color0: var(--jp-content-font-color0, rgba(0, 0, 0, 1));\n",
       "  --xr-font-color2: var(--jp-content-font-color2, rgba(0, 0, 0, 0.54));\n",
       "  --xr-font-color3: var(--jp-content-font-color3, rgba(0, 0, 0, 0.38));\n",
       "  --xr-border-color: var(--jp-border-color2, #e0e0e0);\n",
       "  --xr-disabled-color: var(--jp-layout-color3, #bdbdbd);\n",
       "  --xr-background-color: var(--jp-layout-color0, white);\n",
       "  --xr-background-color-row-even: var(--jp-layout-color1, white);\n",
       "  --xr-background-color-row-odd: var(--jp-layout-color2, #eeeeee);\n",
       "}\n",
       "\n",
       ".xr-wrap {\n",
       "  min-width: 300px;\n",
       "  max-width: 700px;\n",
       "}\n",
       "\n",
       ".xr-header {\n",
       "  padding-top: 6px;\n",
       "  padding-bottom: 6px;\n",
       "  margin-bottom: 4px;\n",
       "  border-bottom: solid 1px var(--xr-border-color);\n",
       "}\n",
       "\n",
       ".xr-header > div,\n",
       ".xr-header > ul {\n",
       "  display: inline;\n",
       "  margin-top: 0;\n",
       "  margin-bottom: 0;\n",
       "}\n",
       "\n",
       ".xr-obj-type,\n",
       ".xr-array-name {\n",
       "  margin-left: 2px;\n",
       "  margin-right: 10px;\n",
       "}\n",
       "\n",
       ".xr-obj-type {\n",
       "  color: var(--xr-font-color2);\n",
       "}\n",
       "\n",
       ".xr-sections {\n",
       "  padding-left: 0 !important;\n",
       "  display: grid;\n",
       "  grid-template-columns: 150px auto auto 1fr 20px 20px;\n",
       "}\n",
       "\n",
       ".xr-section-item {\n",
       "  display: contents;\n",
       "}\n",
       "\n",
       ".xr-section-item input {\n",
       "  display: none;\n",
       "}\n",
       "\n",
       ".xr-section-item input + label {\n",
       "  color: var(--xr-disabled-color);\n",
       "}\n",
       "\n",
       ".xr-section-item input:enabled + label {\n",
       "  cursor: pointer;\n",
       "  color: var(--xr-font-color2);\n",
       "}\n",
       "\n",
       ".xr-section-item input:enabled + label:hover {\n",
       "  color: var(--xr-font-color0);\n",
       "}\n",
       "\n",
       ".xr-section-summary {\n",
       "  grid-column: 1;\n",
       "  color: var(--xr-font-color2);\n",
       "  font-weight: 500;\n",
       "}\n",
       "\n",
       ".xr-section-summary > span {\n",
       "  display: inline-block;\n",
       "  padding-left: 0.5em;\n",
       "}\n",
       "\n",
       ".xr-section-summary-in:disabled + label {\n",
       "  color: var(--xr-font-color2);\n",
       "}\n",
       "\n",
       ".xr-section-summary-in + label:before {\n",
       "  display: inline-block;\n",
       "  content: '►';\n",
       "  font-size: 11px;\n",
       "  width: 15px;\n",
       "  text-align: center;\n",
       "}\n",
       "\n",
       ".xr-section-summary-in:disabled + label:before {\n",
       "  color: var(--xr-disabled-color);\n",
       "}\n",
       "\n",
       ".xr-section-summary-in:checked + label:before {\n",
       "  content: '▼';\n",
       "}\n",
       "\n",
       ".xr-section-summary-in:checked + label > span {\n",
       "  display: none;\n",
       "}\n",
       "\n",
       ".xr-section-summary,\n",
       ".xr-section-inline-details {\n",
       "  padding-top: 4px;\n",
       "  padding-bottom: 4px;\n",
       "}\n",
       "\n",
       ".xr-section-inline-details {\n",
       "  grid-column: 2 / -1;\n",
       "}\n",
       "\n",
       ".xr-section-details {\n",
       "  display: none;\n",
       "  grid-column: 1 / -1;\n",
       "  margin-bottom: 5px;\n",
       "}\n",
       "\n",
       ".xr-section-summary-in:checked ~ .xr-section-details {\n",
       "  display: contents;\n",
       "}\n",
       "\n",
       ".xr-array-wrap {\n",
       "  grid-column: 1 / -1;\n",
       "  display: grid;\n",
       "  grid-template-columns: 20px auto;\n",
       "}\n",
       "\n",
       ".xr-array-wrap > label {\n",
       "  grid-column: 1;\n",
       "  vertical-align: top;\n",
       "}\n",
       "\n",
       ".xr-preview {\n",
       "  color: var(--xr-font-color3);\n",
       "}\n",
       "\n",
       ".xr-array-preview,\n",
       ".xr-array-data {\n",
       "  padding: 0 5px !important;\n",
       "  grid-column: 2;\n",
       "}\n",
       "\n",
       ".xr-array-data,\n",
       ".xr-array-in:checked ~ .xr-array-preview {\n",
       "  display: none;\n",
       "}\n",
       "\n",
       ".xr-array-in:checked ~ .xr-array-data,\n",
       ".xr-array-preview {\n",
       "  display: inline-block;\n",
       "}\n",
       "\n",
       ".xr-dim-list {\n",
       "  display: inline-block !important;\n",
       "  list-style: none;\n",
       "  padding: 0 !important;\n",
       "  margin: 0;\n",
       "}\n",
       "\n",
       ".xr-dim-list li {\n",
       "  display: inline-block;\n",
       "  padding: 0;\n",
       "  margin: 0;\n",
       "}\n",
       "\n",
       ".xr-dim-list:before {\n",
       "  content: '(';\n",
       "}\n",
       "\n",
       ".xr-dim-list:after {\n",
       "  content: ')';\n",
       "}\n",
       "\n",
       ".xr-dim-list li:not(:last-child):after {\n",
       "  content: ',';\n",
       "  padding-right: 5px;\n",
       "}\n",
       "\n",
       ".xr-has-index {\n",
       "  font-weight: bold;\n",
       "}\n",
       "\n",
       ".xr-var-list,\n",
       ".xr-var-item {\n",
       "  display: contents;\n",
       "}\n",
       "\n",
       ".xr-var-item > div,\n",
       ".xr-var-item label,\n",
       ".xr-var-item > .xr-var-name span {\n",
       "  background-color: var(--xr-background-color-row-even);\n",
       "  margin-bottom: 0;\n",
       "}\n",
       "\n",
       ".xr-var-item > .xr-var-name:hover span {\n",
       "  padding-right: 5px;\n",
       "}\n",
       "\n",
       ".xr-var-list > li:nth-child(odd) > div,\n",
       ".xr-var-list > li:nth-child(odd) > label,\n",
       ".xr-var-list > li:nth-child(odd) > .xr-var-name span {\n",
       "  background-color: var(--xr-background-color-row-odd);\n",
       "}\n",
       "\n",
       ".xr-var-name {\n",
       "  grid-column: 1;\n",
       "}\n",
       "\n",
       ".xr-var-dims {\n",
       "  grid-column: 2;\n",
       "}\n",
       "\n",
       ".xr-var-dtype {\n",
       "  grid-column: 3;\n",
       "  text-align: right;\n",
       "  color: var(--xr-font-color2);\n",
       "}\n",
       "\n",
       ".xr-var-preview {\n",
       "  grid-column: 4;\n",
       "}\n",
       "\n",
       ".xr-var-name,\n",
       ".xr-var-dims,\n",
       ".xr-var-dtype,\n",
       ".xr-preview,\n",
       ".xr-attrs dt {\n",
       "  white-space: nowrap;\n",
       "  overflow: hidden;\n",
       "  text-overflow: ellipsis;\n",
       "  padding-right: 10px;\n",
       "}\n",
       "\n",
       ".xr-var-name:hover,\n",
       ".xr-var-dims:hover,\n",
       ".xr-var-dtype:hover,\n",
       ".xr-attrs dt:hover {\n",
       "  overflow: visible;\n",
       "  width: auto;\n",
       "  z-index: 1;\n",
       "}\n",
       "\n",
       ".xr-var-attrs,\n",
       ".xr-var-data {\n",
       "  display: none;\n",
       "  background-color: var(--xr-background-color) !important;\n",
       "  padding-bottom: 5px !important;\n",
       "}\n",
       "\n",
       ".xr-var-attrs-in:checked ~ .xr-var-attrs,\n",
       ".xr-var-data-in:checked ~ .xr-var-data {\n",
       "  display: block;\n",
       "}\n",
       "\n",
       ".xr-var-data > table {\n",
       "  float: right;\n",
       "}\n",
       "\n",
       ".xr-var-name span,\n",
       ".xr-var-data,\n",
       ".xr-attrs {\n",
       "  padding-left: 25px !important;\n",
       "}\n",
       "\n",
       ".xr-attrs,\n",
       ".xr-var-attrs,\n",
       ".xr-var-data {\n",
       "  grid-column: 1 / -1;\n",
       "}\n",
       "\n",
       "dl.xr-attrs {\n",
       "  padding: 0;\n",
       "  margin: 0;\n",
       "  display: grid;\n",
       "  grid-template-columns: 125px auto;\n",
       "}\n",
       "\n",
       ".xr-attrs dt, dd {\n",
       "  padding: 0;\n",
       "  margin: 0;\n",
       "  float: left;\n",
       "  padding-right: 10px;\n",
       "  width: auto;\n",
       "}\n",
       "\n",
       ".xr-attrs dt {\n",
       "  font-weight: normal;\n",
       "  grid-column: 1;\n",
       "}\n",
       "\n",
       ".xr-attrs dt:hover span {\n",
       "  display: inline-block;\n",
       "  background: var(--xr-background-color);\n",
       "  padding-right: 10px;\n",
       "}\n",
       "\n",
       ".xr-attrs dd {\n",
       "  grid-column: 2;\n",
       "  white-space: pre-wrap;\n",
       "  word-break: break-all;\n",
       "}\n",
       "\n",
       ".xr-icon-database,\n",
       ".xr-icon-file-text2 {\n",
       "  display: inline-block;\n",
       "  vertical-align: middle;\n",
       "  width: 1em;\n",
       "  height: 1.5em !important;\n",
       "  stroke-width: 0;\n",
       "  stroke: currentColor;\n",
       "  fill: currentColor;\n",
       "}\n",
       "</style><div class='xr-wrap'><div class='xr-header'><div class='xr-obj-type'>xarray.Dataset</div></div><ul class='xr-sections'><li class='xr-section-item'><input id='section-e55f033e-20c9-4d7c-8822-db7ff031710e' class='xr-section-summary-in' type='checkbox' disabled ><label for='section-e55f033e-20c9-4d7c-8822-db7ff031710e' class='xr-section-summary'  title='Expand/collapse section'>Dimensions:</label><div class='xr-section-inline-details'><ul class='xr-dim-list'><li><span class='xr-has-index'>datetime</span>: 172113</li></ul></div><div class='xr-section-details'></div></li><li class='xr-section-item'><input id='section-01c6dba5-c363-4347-9405-c0242ef20fce' class='xr-section-summary-in' type='checkbox'  checked><label for='section-01c6dba5-c363-4347-9405-c0242ef20fce' class='xr-section-summary' >Coordinates: <span>(1)</span></label><div class='xr-section-inline-details'></div><div class='xr-section-details'><ul class='xr-var-list'><li class='xr-var-item'><div class='xr-var-name'><span class='xr-has-index'>datetime</span></div><div class='xr-var-dims'>(datetime)</div><div class='xr-var-dtype'>datetime64[ns]</div><div class='xr-var-preview xr-preview'>1989-05-16T03:00:00 ... 2019-10-23T18:00:00</div><input id='attrs-4a462734-eebd-4b6f-88a7-a4425a955ef5' class='xr-var-attrs-in' type='checkbox' disabled><label for='attrs-4a462734-eebd-4b6f-88a7-a4425a955ef5' title='Show/Hide attributes'><svg class='icon xr-icon-file-text2'><use xlink:href='#icon-file-text2'></use></svg></label><input id='data-e55d96b2-c293-4fa4-9ff5-d887cae28b7f' class='xr-var-data-in' type='checkbox'><label for='data-e55d96b2-c293-4fa4-9ff5-d887cae28b7f' title='Show/Hide data repr'><svg class='icon xr-icon-database'><use xlink:href='#icon-database'></use></svg></label><div class='xr-var-attrs'><dl class='xr-attrs'></dl></div><pre class='xr-var-data'>array([&#x27;1989-05-16T03:00:00.000000000&#x27;, &#x27;1989-05-16T04:00:00.000000000&#x27;,\n",
       "       &#x27;1989-05-16T05:00:00.000000000&#x27;, ..., &#x27;2019-10-23T16:00:00.000000000&#x27;,\n",
       "       &#x27;2019-10-23T17:00:00.000000000&#x27;, &#x27;2019-10-23T18:00:00.000000000&#x27;],\n",
       "      dtype=&#x27;datetime64[ns]&#x27;)</pre></li></ul></div></li><li class='xr-section-item'><input id='section-521cfd15-bdaa-494f-9dc3-5b8b7b5af53a' class='xr-section-summary-in' type='checkbox'  checked><label for='section-521cfd15-bdaa-494f-9dc3-5b8b7b5af53a' class='xr-section-summary' >Data variables: <span>(1)</span></label><div class='xr-section-inline-details'></div><div class='xr-section-details'><ul class='xr-var-list'><li class='xr-var-item'><div class='xr-var-name'><span>temperature</span></div><div class='xr-var-dims'>(datetime)</div><div class='xr-var-dtype'>float64</div><div class='xr-var-preview xr-preview'>5.2 4.5 3.8 3.4 ... 8.62 8.67 8.66</div><input id='attrs-257f41c3-db8e-4c61-aaf7-86d9205f3f0e' class='xr-var-attrs-in' type='checkbox' ><label for='attrs-257f41c3-db8e-4c61-aaf7-86d9205f3f0e' title='Show/Hide attributes'><svg class='icon xr-icon-file-text2'><use xlink:href='#icon-file-text2'></use></svg></label><input id='data-8c9666de-b88b-42a5-ab57-04bc9aad6212' class='xr-var-data-in' type='checkbox'><label for='data-8c9666de-b88b-42a5-ab57-04bc9aad6212' title='Show/Hide data repr'><svg class='icon xr-icon-database'><use xlink:href='#icon-database'></use></svg></label><div class='xr-var-attrs'><dl class='xr-attrs'><dt><span>units :</span></dt><dd>Celcius</dd></dl></div><pre class='xr-var-data'>array([5.2 , 4.5 , 3.8 , ..., 8.62, 8.67, 8.66])</pre></li></ul></div></li><li class='xr-section-item'><input id='section-bf637c4c-385a-493e-a77a-d811e359815d' class='xr-section-summary-in' type='checkbox'  ><label for='section-bf637c4c-385a-493e-a77a-d811e359815d' class='xr-section-summary' >Attributes: <span>(12)</span></label><div class='xr-section-inline-details'></div><div class='xr-section-details'><dl class='xr-attrs'><dt><span>Station :</span></dt><dd>[&#x27;118&#x27; &#x27;null&#x27;]</dd><dt><span>SiteName :</span></dt><dd>[&#x27;COMFORT COVE&#x27; &#x27;null&#x27; &#x27;COMFORT COVE NOTRE DAME BAY&#x27; &#x27;Comfort Cove&#x27;\n",
       " &#x27;Comfort Cove Sept&#x27; &#x27;&#x27; &#x27;Comfort Cove -&#x27;]</dd><dt><span>Start :</span></dt><dd>[&#x27;1989-05-16 02:00:00&#x27; &#x27;1989-05-16 02:00:00.00&#x27; &#x27;1989-09-26 13:00:00&#x27;\n",
       " &#x27;1989-09-26 13:00:00.00&#x27; &#x27;1989-11-25 15:00:00&#x27; &#x27;1990-04-19 14:00:00&#x27;\n",
       " &#x27;1990-04-19 14:00:00.00&#x27; &#x27;1990-09-18 13:00:00&#x27; &#x27;1990-09-18 13:00:00.00&#x27;\n",
       " &#x27;1990-11-21 20:00:00.00&#x27; &#x27;1991-05-07 14:00:00.00&#x27;\n",
       " &#x27;1991-08-22 16:00:00.00&#x27; &#x27;1991-11-28 15:00:00.00&#x27;\n",
       " &#x27;1992-05-27 13:00:00.00&#x27; &#x27;1992-08-21 16:00:00.00&#x27;\n",
       " &#x27;1992-11-25 15:00:00.00&#x27; &#x27;1993-05-06 15:00:00.00&#x27;\n",
       " &#x27;1993-08-27 15:00:00.00&#x27; &#x27;1993-08-27 15:00:00.00&#x27;\n",
       " &#x27;1993-12-02 16:00:00.00&#x27; &#x27;1993-12-02 16:00:00&#x27; &#x27;1993-12-02 16:00:00&#x27;\n",
       " &#x27;1993-12-02 16:00:00.00&#x27; &#x27;1994-05-05 15:00:00&#x27; &#x27;1994-08-09 17:00:00.00&#x27;\n",
       " &#x27;1994-08-09 17:00:00&#x27; &#x27;1994-08-10 17:00:00.00&#x27; &#x27;1994-08-10 17:00:00&#x27;\n",
       " &#x27;1994-12-01 16:00:00.00&#x27; &#x27;1994-12-01 16:00:00.00&#x27; &#x27;1994-12-01 16:00:00&#x27;\n",
       " &#x27;1994-12-01 16:00:00&#x27; &#x27;1995-06-01 15:00:00.00&#x27; &#x27;1995-06-01 15:00:00.00&#x27;\n",
       " &#x27;1995-06-01 15:00:00&#x27; &#x27;1995-06-01 15:00:00&#x27; &#x27;1995-09-21 15:00:00.00&#x27;\n",
       " &#x27;1995-09-21 15:00:00.00&#x27; &#x27;1995-09-21 15:00:00&#x27; &#x27;1995-09-21 15:00:00&#x27;\n",
       " &#x27;1995-11-23 16:00:00.00&#x27; &#x27;1995-11-23 16:00:00.00&#x27; &#x27;1995-11-23 16:00:00&#x27;\n",
       " &#x27;1995-11-23 16:00:00&#x27; &#x27;1996-04-24 15:00:00.00&#x27; &#x27;1996-04-24 15:00:00&#x27;\n",
       " &#x27;1996-04-24 14:00:00&#x27; &#x27;1996-04-24 15:00:00.00&#x27; &#x27;1996-09-04 14:00:00.00&#x27;\n",
       " &#x27;1996-09-04 15:00:00.00&#x27; &#x27;1996-09-04 14:00:00&#x27; &#x27;1996-09-04 15:00:00&#x27;\n",
       " &#x27;1996-11-29 16:00:00.00&#x27; &#x27;1996-11-29 16:00:00.00&#x27; &#x27;1996-11-29 16:00:00&#x27;\n",
       " &#x27;1996-11-29 16:00:00&#x27; &#x27;1997-05-08 15:00:00.00&#x27; &#x27;1997-05-08 15:00:00&#x27;\n",
       " &#x27;1997-09-17 16:00:00.00&#x27; &#x27;1997-09-17 16:00:00.00&#x27; &#x27;1997-09-17 16:00:00&#x27;\n",
       " &#x27;1997-09-17 16:00:00&#x27; &#x27;1998-05-20 15:00:00&#x27; &#x27;1998-05-20 15:00:00&#x27;\n",
       " &#x27;1998-09-09 14:00:00&#x27; &#x27;1998-09-09 14:00:00&#x27; &#x27;1998-11-25 16:00:00&#x27;\n",
       " &#x27;1998-11-25 16:00:00&#x27; &#x27;1999-05-13 14:00:00&#x27; &#x27;1999-05-13 13:00:00&#x27;\n",
       " &#x27;1999-08-18 14:00:00&#x27; &#x27;1999-08-18 14:00:00&#x27; &#x27;1999-11-07 13:00:00&#x27;\n",
       " &#x27;1999-11-07 13:00:00&#x27; &#x27;2000-05-25 14:00:00&#x27; &#x27;2000-09-11 13:00:00&#x27;\n",
       " &#x27;2000-09-11 13:00:00&#x27; &#x27;2000-09-14 21:00:00&#x27; &#x27;2000-11-22 13:00:00&#x27;\n",
       " &#x27;2000-11-22 13:00:00&#x27; &#x27;2000-12-05 16:00:00&#x27; &#x27;2001-09-10 13:00:00&#x27;\n",
       " &#x27;2001-09-10 13:00:00&#x27; &#x27;2001-09-18 14:00:00&#x27; &#x27;2001-11-06 13:00:00&#x27;\n",
       " &#x27;2001-11-06 13:00:00&#x27; &#x27;2001-11-07 15:00:00&#x27; &#x27;2002-05-14 14:00:00&#x27;\n",
       " &#x27;2002-09-25 23:00:00&#x27; &#x27;2002-11-21 15:00:00&#x27; &#x27;2003-05-07 14:00:00&#x27;\n",
       " &#x27;2003-08-28 15:00:00&#x27; &#x27;2005-05-18 12:00:00&#x27; &#x27;2005-05-23 13:00:00&#x27;\n",
       " &#x27;2005-05-23 13:00:00&#x27; &#x27;2006-05-18 12:00:00&#x27; &#x27;2006-05-18 12:00:00&#x27;\n",
       " &#x27;2006-05-28 16:00:00&#x27; &#x27;2007-05-15 12:00:00&#x27; &#x27;2007-05-15 13:00:00&#x27;\n",
       " &#x27;2007-05-15 13:00:00&#x27; &#x27;2008-05-20 12:00:00&#x27; &#x27;2008-05-22 22:00:00&#x27;\n",
       " &#x27;2011-05-15 12:00:00&#x27; &#x27;2012-05-12 13:00:00&#x27; &#x27;2012-05-12 13:00:00&#x27;\n",
       " &#x27;2012-05-12 12:00:00&#x27; &#x27;2013-05-20 22:00:00&#x27; &#x27;2014-05-29 20:00:00&#x27;\n",
       " &#x27;2015-05-20 13:00:00&#x27; &#x27;2016-05-22 18:00:00&#x27; &#x27;2017-06-08 12:00:00&#x27;\n",
       " &#x27;2018-05-21 18:39:38&#x27; &#x27;2019-05-14 17:00:00&#x27;]</dd><dt><span>End :</span></dt><dd>[&#x27;1989-09-26 14:00:00&#x27; &#x27;1990-04-19 12:00:00.00&#x27; &#x27;1989-11-25 14:00:00&#x27;\n",
       " &#x27;1989-11-25 14:00:00.00&#x27; &#x27;1990-04-19 12:00:00&#x27; &#x27;1990-09-18 11:00:00&#x27;\n",
       " &#x27;1990-09-18 11:00:00.00&#x27; &#x27;1990-11-21 19:00:00&#x27; &#x27;1990-11-21 19:00:00.00&#x27;\n",
       " &#x27;1991-05-07 12:00:00.00&#x27; &#x27;1991-08-22 14:00:00.00&#x27;\n",
       " &#x27;1991-11-28 14:00:00.00&#x27; &#x27;1992-05-27 12:00:00.00&#x27;\n",
       " &#x27;1992-08-11 13:00:00.00&#x27; &#x27;1992-11-25 14:00:00.00&#x27;\n",
       " &#x27;1993-05-06 14:00:00.00&#x27; &#x27;1993-08-27 14:00:00.00&#x27;\n",
       " &#x27;1993-12-02 15:00:00.00&#x27; &#x27;1993-12-02 15:00:00.00&#x27;\n",
       " &#x27;1994-05-05 12:00:00.00&#x27; &#x27;1994-05-05 12:00:00&#x27; &#x27;1994-05-05 12:00:00&#x27;\n",
       " &#x27;1994-05-05 12:00:00.00&#x27; &#x27;1994-08-09 16:00:00&#x27; &#x27;1994-11-26 17:00:00.00&#x27;\n",
       " &#x27;1994-11-26 17:00:00&#x27; &#x27;1994-12-01 17:00:00.00&#x27; &#x27;1994-12-01 17:00:00&#x27;\n",
       " &#x27;1995-06-01 14:00:00.00&#x27; &#x27;1995-06-01 14:00:00.00&#x27; &#x27;1995-06-01 14:00:00&#x27;\n",
       " &#x27;1995-06-01 14:00:00&#x27; &#x27;1995-09-21 13:00:00.00&#x27; &#x27;1995-09-21 13:00:00.00&#x27;\n",
       " &#x27;1995-09-21 13:00:00&#x27; &#x27;1995-09-21 13:00:00&#x27; &#x27;1995-11-23 16:00:00.00&#x27;\n",
       " &#x27;1995-11-23 16:00:00.00&#x27; &#x27;1995-11-23 16:00:00&#x27; &#x27;1995-11-23 16:00:00&#x27;\n",
       " &#x27;1996-04-24 14:00:00.00&#x27; &#x27;1996-04-24 14:00:00.00&#x27; &#x27;1996-04-24 14:00:00&#x27;\n",
       " &#x27;1996-04-24 14:00:00&#x27; &#x27;1996-08-01 23:00:00.00&#x27; &#x27;1996-08-01 23:00:00&#x27;\n",
       " &#x27;1996-09-03 23:00:00&#x27; &#x27;1996-09-04 14:00:00.00&#x27; &#x27;1996-11-28 14:00:00.00&#x27;\n",
       " &#x27;1996-11-28 15:00:00.00&#x27; &#x27;1996-11-28 14:00:00&#x27; &#x27;1996-11-28 15:00:00&#x27;\n",
       " &#x27;1997-05-08 14:00:00.00&#x27; &#x27;1997-05-08 14:00:00.00&#x27; &#x27;1997-05-08 14:00:00&#x27;\n",
       " &#x27;1997-05-08 14:00:00&#x27; &#x27;1997-09-17 15:00:00.00&#x27; &#x27;1997-09-17 15:00:00&#x27;\n",
       " &#x27;1997-11-27 14:00:00.00&#x27; &#x27;1997-11-27 14:00:00.00&#x27; &#x27;1997-11-27 14:00:00&#x27;\n",
       " &#x27;1997-11-27 14:00:00&#x27; &#x27;1998-09-09 13:00:00&#x27; &#x27;1998-09-09 13:00:00&#x27;\n",
       " &#x27;1998-11-25 15:00:00&#x27; &#x27;1998-11-25 15:00:00&#x27; &#x27;1999-04-25 12:00:00&#x27;\n",
       " &#x27;1999-05-13 08:00:00&#x27; &#x27;1999-08-18 13:00:00&#x27; &#x27;1999-08-18 13:00:00&#x27;\n",
       " &#x27;1999-11-11 14:00:00&#x27; &#x27;1999-11-11 14:00:00&#x27; &#x27;2000-06-01 null&#x27;\n",
       " &#x27;2000-06-01 null&#x27; &#x27;2000-09-14 20:00:00&#x27; &#x27;2001-05-25 null&#x27;\n",
       " &#x27;2001-05-25 null&#x27; &#x27;2001-05-23 13:00:00&#x27; &#x27;2001-12-06 null&#x27;\n",
       " &#x27;2001-12-06 null&#x27; &#x27;2001-05-23 13:00:00&#x27; &#x27;2001-12-06 null&#x27;\n",
       " &#x27;2001-12-06 null&#x27; &#x27;2001-11-07 14:00:00&#x27; &#x27;2002-05-22 null&#x27;\n",
       " &#x27;2002-05-22 null&#x27; &#x27;2002-05-14 12:00:00&#x27; &#x27;2002-09-24 12:00:00&#x27;\n",
       " &#x27;2002-11-21 14:00:00&#x27; &#x27;2003-04-30 23:00:00&#x27; &#x27;2003-08-28 14:00:00&#x27;\n",
       " &#x27;2003-11-13 15:00:00&#x27; &#x27;2005-11-21 13:28:39&#x27; &#x27;2005-11-06 17:00:00&#x27;\n",
       " &#x27;2005-11-06 17:00:00&#x27; &#x27;2006-11-06 18:50:29&#x27; &#x27;2006-11-06 18:44:29&#x27;\n",
       " &#x27;2006-10-28 20:00:00&#x27; &#x27;2008-04-15 11:00:00&#x27; &#x27;2009-11-09 null&#x27;\n",
       " &#x27;2009-11-09 null&#x27; &#x27;2008-11-17 13:01:09&#x27; &#x27;2008-11-02 13:00:00&#x27;\n",
       " &#x27;2011-09-23 11:34:39&#x27; &#x27;2013-02-06 null&#x27; &#x27;2013-02-06 null&#x27;\n",
       " &#x27;2013-02-06 17:14:29&#x27; &#x27;2014-10-20 16:00:00&#x27; &#x27;2014-10-24 14:00:00&#x27;\n",
       " &#x27;2015-10-29 13:00:00&#x27; &#x27;2016-11-26 16:00:00&#x27; &#x27;2017-11-27 19:00:00&#x27;\n",
       " &#x27;2018-11-28 15:39:38&#x27; &#x27;2020-10-23 18:00:00&#x27;]</dd><dt><span>Latitude :</span></dt><dd>[&#x27;49.41&#x27; &#x27;null&#x27;]</dd><dt><span>Longitude :</span></dt><dd>[&#x27;54.83&#x27; &#x27;null&#x27;]</dd><dt><span>InstType :</span></dt><dd>[&#x27;null&#x27; &#x27;SEAMONUTR-B&#x27; &#x27;Hugrun&#x27; &#x27;SEAMONUTR-A&#x27; &#x27;Minilog&#x27; &#x27;Minilog-T&#x27;\n",
       " &#x27;Minilog-II-T&#x27;]</dd><dt><span>SerialNumber :</span></dt><dd>[&#x27;3264&#x27; &#x27;003264&#x27; &#x27;4361&#x27; &#x27;004361&#x27; &#x27;005456&#x27; &#x27;003261&#x27; &#x27;003213&#x27; &#x27;004323&#x27;\n",
       " &#x27;006596&#x27; &#x27;004325&#x27; &#x27;003262&#x27; &#x27;007880&#x27; &#x27;007818&#x27; &#x27;003263&#x27; &#x27;008962&#x27; &#x27;006598&#x27;\n",
       " &#x27;007819&#x27; &#x27;003260&#x27; &#x27;008975&#x27; &#x27;008972&#x27; &#x27;004360&#x27; &#x27;008967&#x27; &#x27;008A0A&#x27; &#x27;008958&#x27;\n",
       " &#x27;008A08&#x27; &#x27;007939&#x27; &#x27;004333&#x27; &#x27;006782&#x27; &#x27;008A09&#x27; &#x27;005475&#x27; &#x27;004354&#x27; &#x27;008959&#x27;\n",
       " &#x27;005477&#x27; &#x27;008955&#x27; &#x27;003266&#x27; &#x27;008961&#x27; &#x27;008966&#x27; &#x27;004357&#x27; &#x27;003287&#x27; &#x27;004346&#x27;\n",
       " &#x27;008971&#x27; &#x27;007821&#x27; &#x27;005476&#x27; &#x27;003820&#x27; &#x27;006441&#x27; &#x27;007873&#x27; &#x27;006641&#x27; &#x27;005459&#x27;\n",
       " &#x27;007937&#x27; &#x27;007943&#x27; &#x27;007935&#x27; &#x27;007929&#x27; &#x27;2186&#x27; &#x27;002186&#x27; &#x27;9376&#x27; &#x27;9380&#x27;\n",
       " &#x27;009376&#x27; &#x27;007820&#x27; &#x27;4933&#x27; &#x27;007934&#x27; &#x27;3417&#x27; &#x27;008A0B&#x27; &#x27;5539&#x27; &#x27;353792&#x27;\n",
       " &#x27;351099&#x27; &#x27;356307&#x27; &#x27;355659&#x27; &#x27;351103&#x27; &#x27;354547&#x27;]</dd><dt><span>WaterDepth :</span></dt><dd>[&#x27;9&#x27; &#x27;9.00&#x27; &#x27;09&#x27; &#x27;10&#x27; &#x27;10.00&#x27; &#x27;009&#x27; &#x27;null&#x27; &#x27;010&#x27;]</dd><dt><span>InstDepth :</span></dt><dd>[&#x27;null&#x27; &#x27;9.00&#x27; &#x27;10.00&#x27; &#x27;009&#x27; &#x27;010&#x27;]</dd><dt><span>SamplingInterval :</span></dt><dd>[&#x27;null&#x27; &#x27;3600.0000&#x27; &#x27;060&#x27; &#x27;01:00:00&#x27;]</dd><dt><span>FileName :</span></dt><dd>[&#x27;MTR_30_1989_05_16.rpf&#x27; &#x27;MTR_85_1989_05_16.rpf&#x27; &#x27;MTR_31_1989_09_26.rpf&#x27;\n",
       " &#x27;MTR_86_1989_09_26.rpf&#x27; &#x27;MTR_32_1989_11_25.rpf&#x27; &#x27;MTR_33_1990_04_19.rpf&#x27;\n",
       " &#x27;MTR_90_1990_04_19.rpf&#x27; &#x27;MTR_34_1990_09_18.rpf&#x27; &#x27;MTR_89_1990_09_18.rpf&#x27;\n",
       " &#x27;MTR_88_1990_11_21.rpf&#x27; &#x27;MTR_91_1991_05_07.rpf&#x27; &#x27;MTR_93_1991_08_22.rpf&#x27;\n",
       " &#x27;MTR_92_1991_11_28.rpf&#x27; &#x27;MTR_94_1992_05_27.rpf&#x27; &#x27;MTR_96_1992_08_21.rpf&#x27;\n",
       " &#x27;MTR_95_1992_11_25.rpf&#x27; &#x27;MTR_97_1993_05_06.rpf&#x27; &#x27;MTR_101_1993_08_27.rpf&#x27;\n",
       " &#x27;MTR_99_1993_08_27.rpf&#x27; &#x27;MTR_100_1993_12_02.rpf&#x27; &#x27;MTR_35_1993_12_02.rpf&#x27;\n",
       " &#x27;MTR_36_1993_12_02.rpf&#x27; &#x27;MTR_98_1993_12_02.rpf&#x27; &#x27;MTR_37_1994_05_05.rpf&#x27;\n",
       " &#x27;MTR_105_1994_08_09.rpf&#x27; &#x27;MTR_38_1994_08_09.rpf&#x27; &#x27;MTR_104_1994_08_10.rpf&#x27;\n",
       " &#x27;MTR_39_1994_08_10.rpf&#x27; &#x27;MTR_102_1994_12_01.rpf&#x27; &#x27;MTR_103_1994_12_01.rpf&#x27;\n",
       " &#x27;MTR_40_1994_12_01.rpf&#x27; &#x27;MTR_41_1994_12_01.rpf&#x27; &#x27;MTR_109_1995_06_01.rpf&#x27;\n",
       " &#x27;MTR_111_1995_06_01.rpf&#x27; &#x27;MTR_42_1995_06_01.rpf&#x27; &#x27;MTR_43_1995_06_01.rpf&#x27;\n",
       " &#x27;MTR_108_1995_09_21.rpf&#x27; &#x27;MTR_110_1995_09_21.rpf&#x27; &#x27;MTR_44_1995_09_21.rpf&#x27;\n",
       " &#x27;MTR_45_1995_09_21.rpf&#x27; &#x27;MTR_106_1995_11_23.rpf&#x27; &#x27;MTR_107_1995_11_23.rpf&#x27;\n",
       " &#x27;MTR_46_1995_11_23.rpf&#x27; &#x27;MTR_47_1995_11_23.rpf&#x27; &#x27;MTR_113_1996_04_24.rpf&#x27;\n",
       " &#x27;MTR_49_1996_04_24.rpf&#x27; &#x27;MTR_48_1996_04_24.rpf&#x27; &#x27;MTR_112_1996_04_24.rpf&#x27;\n",
       " &#x27;MTR_115_1996_09_04.rpf&#x27; &#x27;MTR_117_1996_09_04.rpf&#x27; &#x27;MTR_50_1996_09_04.rpf&#x27;\n",
       " &#x27;MTR_51_1996_09_04.rpf&#x27; &#x27;MTR_114_1996_11_29.rpf&#x27; &#x27;MTR_116_1996_11_29.rpf&#x27;\n",
       " &#x27;MTR_52_1996_11_29.rpf&#x27; &#x27;MTR_53_1996_11_29.rpf&#x27; &#x27;MTR_120_1997_05_08.rpf&#x27;\n",
       " &#x27;MTR_54_1997_05_08.rpf&#x27; &#x27;MTR_118_1997_09_17.rpf&#x27; &#x27;MTR_119_1997_09_17.rpf&#x27;\n",
       " &#x27;MTR_55_1997_09_17.rpf&#x27; &#x27;MTR_56_1997_09_17.rpf&#x27; &#x27;MTR_57_1998_05_20.rpf&#x27;\n",
       " &#x27;MTR_58_1998_05_20.rpf&#x27; &#x27;MTR_59_1998_09_09.rpf&#x27; &#x27;MTR_60_1998_09_09.rpf&#x27;\n",
       " &#x27;MTR_61_1998_11_25.rpf&#x27; &#x27;MTR_62_1998_11_25.rpf&#x27; &#x27;MTR_63_1999_05_13.rpf&#x27;\n",
       " &#x27;MTR_64_1999_05_13.rpf&#x27; &#x27;MTR_65_1999_08_18.rpf&#x27; &#x27;MTR_66_1999_08_18.rpf&#x27;\n",
       " &#x27;MTR_1_1999_11_07.rpf&#x27; &#x27;MTR_2_1999_11_07.rpf&#x27; &#x27;MTR_3_2000_05_25.rpf&#x27;\n",
       " &#x27;MTR_4_2000_09_11.rpf&#x27; &#x27;MTR_5_2000_09_11.rpf&#x27; &#x27;MTR_6_2000_09_14.rpf&#x27;\n",
       " &#x27;MTR_7_2000_11_22.rpf&#x27; &#x27;MTR_8_2000_11_22.rpf&#x27; &#x27;MTR_9_2000_12_05.rpf&#x27;\n",
       " &#x27;MTR_10_2001_09_10.rpf&#x27; &#x27;MTR_11_2001_09_10.rpf&#x27; &#x27;MTR_12_2001_09_18.rpf&#x27;\n",
       " &#x27;MTR_14_2001_11_06.rpf&#x27; &#x27;MTR_15_2001_11_06.rpf&#x27; &#x27;MTR_13_2001_11_07.rpf&#x27;\n",
       " &#x27;MTR_16_2002_05_14.rpf&#x27; &#x27;MTR_17_2002_09_25.rpf&#x27; &#x27;MTR_18_2002_11_21.rpf&#x27;\n",
       " &#x27;MTR_19_2003_05_07.rpf&#x27; &#x27;MTR_20_2003_08_28.rpf&#x27; &#x27;MTR_67_2005_05_18.rpf&#x27;\n",
       " &#x27;MTR_21_2005_05_23.rpf&#x27; &#x27;MTR_22_2005_05_23.rpf&#x27; &#x27;MTR_71_2006_05_18.rpf&#x27;\n",
       " &#x27;MTR_72_2006_05_18.rpf&#x27; &#x27;MTR_23_2006_05_28.rpf&#x27; &#x27;MTR_73_2007_05_15.rpf&#x27;\n",
       " &#x27;MTR_24_2007_05_15.rpf&#x27; &#x27;MTR_25_2007_05_15.rpf&#x27; &#x27;MTR_69_2008_05_20.rpf&#x27;\n",
       " &#x27;MTR_26_2008_05_22.rpf&#x27; &#x27;MTR_68_2011_05_15.rpf&#x27; &#x27;MTR_27_2012_05_12.rpf&#x27;\n",
       " &#x27;MTR_28_2012_05_12.rpf&#x27; &#x27;MTR_70_2012_05_12.rpf&#x27; &#x27;MTR_76_2013_05_20.rpf&#x27;\n",
       " &#x27;MTR_74_2014_05_29.rpf&#x27; &#x27;MTR_80_2015_05_20.rpf&#x27; &#x27;MTR_79_2016_05_22.rpf&#x27;\n",
       " &#x27;MTR_75_2017_06_08.rpf&#x27; &#x27;MTR_77_2018_05_21.rpf&#x27; &#x27;MTR_78_2019_05_14.rpf&#x27;]</dd></dl></div></li></ul></div></div>"
      ],
      "text/plain": [
       "<xarray.Dataset>\n",
       "Dimensions:      (datetime: 172113)\n",
       "Coordinates:\n",
       "  * datetime     (datetime) datetime64[ns] 1989-05-16T03:00:00 ... 2019-10-23T18:00:00\n",
       "Data variables:\n",
       "    temperature  (datetime) float64 5.2 4.5 3.8 3.4 3.1 ... 8.62 8.62 8.67 8.66\n",
       "Attributes:\n",
       "    Station:           ['118' 'null']\n",
       "    SiteName:          ['COMFORT COVE' 'null' 'COMFORT COVE NOTRE DAME BAY' '...\n",
       "    Start:             ['1989-05-16 02:00:00' '1989-05-16 02:00:00.00' '1989-...\n",
       "    End:               ['1989-09-26 14:00:00' '1990-04-19 12:00:00.00' '1989-...\n",
       "    Latitude:          ['49.41' 'null']\n",
       "    Longitude:         ['54.83' 'null']\n",
       "    InstType:          ['null' 'SEAMONUTR-B' 'Hugrun' 'SEAMONUTR-A' 'Minilog'...\n",
       "    SerialNumber:      ['3264' '003264' '4361' '004361' '005456' '003261' '00...\n",
       "    WaterDepth:        ['9' '9.00' '09' '10' '10.00' '009' 'null' '010']\n",
       "    InstDepth:         ['null' '9.00' '10.00' '009' '010']\n",
       "    SamplingInterval:  ['null' '3600.0000' '060' '01:00:00']\n",
       "    FileName:          ['MTR_30_1989_05_16.rpf' 'MTR_85_1989_05_16.rpf' 'MTR_..."
      ]
     },
     "execution_count": 30,
     "metadata": {},
     "output_type": "execute_result"
    }
   ],
   "source": [
    "xr"
   ]
  },
  {
   "cell_type": "code",
   "execution_count": 31,
   "metadata": {},
   "outputs": [
    {
     "name": "stdout",
     "output_type": "stream",
     "text": [
      "<xarray.Dataset>\n",
      "Dimensions:      (datetime: 172113)\n",
      "Coordinates:\n",
      "  * datetime     (datetime) datetime64[ns] 1989-05-16T03:00:00 ... 2019-10-23T18:00:00\n",
      "Data variables:\n",
      "    temperature  (datetime) float64 5.2 4.5 3.8 3.4 3.1 ... 8.62 8.62 8.67 8.66\n",
      "Attributes:\n",
      "    Station:           ['118' 'null']\n",
      "    SiteName:          ['COMFORT COVE' 'null' 'COMFORT COVE NOTRE DAME BAY' '...\n",
      "    Start:             ['1989-05-16 02:00:00' '1989-05-16 02:00:00.00' '1989-...\n",
      "    End:               ['1989-09-26 14:00:00' '1990-04-19 12:00:00.00' '1989-...\n",
      "    Latitude:          ['49.41' 'null']\n",
      "    Longitude:         ['54.83' 'null']\n",
      "    InstType:          ['null' 'SEAMONUTR-B' 'Hugrun' 'SEAMONUTR-A' 'Minilog'...\n",
      "    SerialNumber:      ['3264' '003264' '4361' '004361' '005456' '003261' '00...\n",
      "    WaterDepth:        ['9' '9.00' '09' '10' '10.00' '009' 'null' '010']\n",
      "    InstDepth:         ['null' '9.00' '10.00' '009' '010']\n",
      "    SamplingInterval:  ['null' '3600.0000' '060' '01:00:00']\n",
      "    FileName:          ['MTR_30_1989_05_16.rpf' 'MTR_85_1989_05_16.rpf' 'MTR_...\n"
     ]
    }
   ],
   "source": [
    "print(xr)"
   ]
  },
  {
   "cell_type": "code",
   "execution_count": 32,
   "metadata": {},
   "outputs": [],
   "source": [
    "#code to convert the dataset 'xr' to a netCDF file\n",
    "#xr.to_netcdf('ComfortCoveNetCDF.nc')"
   ]
  },
  {
   "cell_type": "markdown",
   "metadata": {},
   "source": [
    "## Plotting\n",
    "\n",
    "Plots are useful for finding trends and anomalies, and for visualizing your data. In this section there is code for  plotting:\n",
    "   1. Annual curves\n",
    "   2. Daily time series"
   ]
  },
  {
   "cell_type": "markdown",
   "metadata": {},
   "source": [
    "### Annual Curve\n",
    "\n",
    "In this plot, we have two curves:  \n",
    "- The weekly average for the year 2007\n",
    "- The weekly average from 1989 - 2018\n",
    "    - We do this by taking the average temp for week 1 of 1989, then for week 1 of 1990, etc.. We then take the average of all week 1's. In the end there is one data point for each week of the year (52 in total). \n",
    "    - The blue envelope represents one standard devation above and below the mean.\n",
    "    \n",
    "This plot is helpful for seeing if certain years tend towards or away from the average and can show us if there are any temperature peaks or drops.\n",
    "\n",
    "\n",
    "**Note:** This code is hardcoded to show the 2007 curve, but it can easily be changed to a different year."
   ]
  },
  {
   "cell_type": "code",
   "execution_count": 33,
   "metadata": {},
   "outputs": [],
   "source": [
    "#deepcopy preserves df_all\n",
    "df = copy.deepcopy(df_all)\n",
    "\n",
    "#creates a new column, shows the week of the year the date belongs to\n",
    "df['woy'] = df.index.weekofyear\n",
    "\n",
    "#groups by the 'woy' and takes the mean temp and std for each week \n",
    "weekly_clim = df.groupby('woy').mean()\n",
    "weekly_std = df.groupby('woy').std()\n",
    "\n",
    "#df_year holds the temperatures for the specified year, in this case 2007\n",
    "df_year = df[df.index.year >= 2007] \n",
    "\n",
    "#groups by 'woy' so that it matches the format of weekly_clim \n",
    "weekly_year = df_year.groupby('woy').mean()"
   ]
  },
  {
   "cell_type": "code",
   "execution_count": 34,
   "metadata": {},
   "outputs": [
    {
     "data": {
      "image/png": "[encoded data removed]",
      "text/plain": [
       "<Figure size 432x288 with 1 Axes>"
      ]
     },
     "metadata": {
      "needs_background": "light"
     },
     "output_type": "display_data"
    }
   ],
   "source": [
    "#curve for 1989-2019\n",
    "ax = weekly_clim.plot(linewidth=2, legend=None)\n",
    "\n",
    "#curve for 2007\n",
    "weekly_year.plot(ax=ax, linewidth=2)\n",
    "\n",
    "#the weekly_clim + and - one std\n",
    "plt.fill_between(weekly_clim.index, \n",
    "                  np.squeeze(weekly_clim.values+weekly_std.values),\n",
    "                  np.squeeze(weekly_clim.values-weekly_std.values), \n",
    "                  facecolor='steelblue', \n",
    "                  interpolate=True , \n",
    "                  alpha=.3)\n",
    "\n",
    "plt.ylabel(r'T ($^{\\circ}C$)')\n",
    "plt.xlabel('Week of the year')\n",
    "plt.title('Comfort Cove Annual Curve')\n",
    "plt.grid()\n",
    "plt.legend(['1989-2018 average', 2007])\n",
    "\n",
    "plt.show()"
   ]
  },
  {
   "cell_type": "markdown",
   "metadata": {},
   "source": [
    "We can see that there are some weeks that differ from the average, but in almost every week, the 2007 curve stays within one standard deviation of the mean."
   ]
  },
  {
   "cell_type": "markdown",
   "metadata": {},
   "source": [
    "### Daily Time Series\n",
    "\n",
    "In this plot, we have the daily average for a specific month and year. The code is hardcoded to look at June 2005. It is useful for seeing the general trend of the month and for finding any temperature drops or peaks. "
   ]
  },
  {
   "cell_type": "code",
   "execution_count": 35,
   "metadata": {},
   "outputs": [],
   "source": [
    "#only looking at 2005\n",
    "df_series = df_all[df_all.index.year == 2005]\n",
    "#only looking at June of 2005\n",
    "df_day = df_series[df_series.index.month == 6]"
   ]
  },
  {
   "cell_type": "code",
   "execution_count": 36,
   "metadata": {},
   "outputs": [
    {
     "data": {
      "image/png": "[encoded data removed]",
      "text/plain": [
       "<Figure size 1296x360 with 1 Axes>"
      ]
     },
     "metadata": {
      "needs_background": "light"
     },
     "output_type": "display_data"
    }
   ],
   "source": [
    "fig, ax = plt.subplots()\n",
    "plt.plot(df_day.index, df_day['temperature'])\n",
    "\n",
    "plt.xlabel(\"Day of the month\")\n",
    "plt.ylabel(\"Temperature\")\n",
    "\n",
    "plt.title('Daily Temps for June 2005')\n",
    "fig = ax.get_figure()\n",
    "fig.set_size_inches(w=18,h=5)\n",
    "\n",
    "plt.show()"
   ]
  },
  {
   "cell_type": "markdown",
   "metadata": {},
   "source": [
    "## Climatology\n",
    "\n",
    "A climatology plot shows the average temperature over a long period of time. This specific plot shows the climatology from 1989-2019 in relation to the time series for 2007.  "
   ]
  },
  {
   "cell_type": "code",
   "execution_count": 37,
   "metadata": {},
   "outputs": [],
   "source": [
    "#preserves df_all\n",
    "df2 = copy.deepcopy(df_all)"
   ]
  },
  {
   "cell_type": "code",
   "execution_count": 38,
   "metadata": {},
   "outputs": [],
   "source": [
    "#creates a new column DOY\n",
    "df2['doy'] = df2.index.dayofyear \n",
    "#groups data on this new column and averages\n",
    "daily_clim = df2.groupby('doy').mean() \n",
    "#finds std\n",
    "daily_std = df2.groupby('doy').std()"
   ]
  },
  {
   "cell_type": "code",
   "execution_count": 39,
   "metadata": {},
   "outputs": [],
   "source": [
    "#change here to look at different years\n",
    "df_year = df2[df2.index.year == 2007] \n",
    "daily_year = df_year.groupby('doy').mean()"
   ]
  },
  {
   "cell_type": "code",
   "execution_count": 40,
   "metadata": {},
   "outputs": [
    {
     "data": {
      "text/plain": [
       "<matplotlib.legend.Legend at 0x1a1a8d5450>"
      ]
     },
     "execution_count": 40,
     "metadata": {},
     "output_type": "execute_result"
    },
    {
     "data": {
      "image/png": "[encoded data removed]",
      "text/plain": [
       "<Figure size 432x288 with 1 Axes>"
      ]
     },
     "metadata": {
      "needs_background": "light"
     },
     "output_type": "display_data"
    }
   ],
   "source": [
    "ax = daily_clim.plot(linewidth=1, legend=None)\n",
    "daily_year.plot(ax=ax, linewidth=1)\n",
    "plt.fill_between(daily_clim.index,\n",
    "              np.squeeze(daily_clim.values+daily_std.values),\n",
    "              np.squeeze(daily_clim.values-daily_std.values),\n",
    "              facecolor='steelblue',\n",
    "              interpolate=True ,\n",
    "              alpha=.3)\n",
    "plt.title('Climatology for 1989-2019')\n",
    "plt.xlabel('Day of Year')\n",
    "plt.ylabel(\"Temperature\")\n",
    "ax.legend(['Climatology', 2007])"
   ]
  },
  {
   "cell_type": "markdown",
   "metadata": {},
   "source": [
    "The blue curve in this plot is the average temperature for each day of the year for the years 1989 through 2018, and the upper and lower bounds of the shadow represent one standard deviation away from the mean. The orange curve is the daily temperature for the inputted year, in this case, 2007. \n",
    "\n",
    "This plot helps shows us where the 2007 temperatures drop below the climatology curve, and can be used to find upwells."
   ]
  },
  {
   "cell_type": "markdown",
   "metadata": {},
   "source": [
    "## Upwells\n",
    "\n",
    "An upwell is classified as a period of cooling that occurs when surface winds blow across the surface of water, and cause the cold, deep water to rise up to the surface. \n",
    "\n",
    "To detect upwells, we first need to find the rolled mean and rolled standard deviation of the temperatures for a specific year. Using the rolled mean and standard deviation, we calculate the upper and lower bounds of the yearly curve. This will be easier to visualize with the plot shown below. \n",
    "\n",
    "Once we plot the rolled mean curve, we can plot the curve representing the daily temperature for the year."
   ]
  },
  {
   "cell_type": "code",
   "execution_count": 41,
   "metadata": {},
   "outputs": [],
   "source": [
    "#preserves df_all\n",
    "dfU = copy.deepcopy(df_all)"
   ]
  },
  {
   "cell_type": "code",
   "execution_count": 42,
   "metadata": {},
   "outputs": [],
   "source": [
    "dfU['doy'] = dfU.index.dayofyear"
   ]
  },
  {
   "cell_type": "code",
   "execution_count": 43,
   "metadata": {},
   "outputs": [],
   "source": [
    "#looking specifically at 2007\n",
    "df_year = dfU[dfU.index.year == 2007] \n",
    "daily_year = df_year.groupby('doy').mean()"
   ]
  },
  {
   "cell_type": "code",
   "execution_count": 44,
   "metadata": {},
   "outputs": [],
   "source": [
    "#smooths daily_year curve\n",
    "rolledMean = daily_year.rolling(30, center = True).mean()\n",
    "rolledStd = daily_year.rolling(30, center = True).std()"
   ]
  },
  {
   "cell_type": "code",
   "execution_count": 45,
   "metadata": {},
   "outputs": [],
   "source": [
    "#half of one std away from rolled mean \n",
    "lowerBound = rolledMean.values - (rolledStd.values)*0.5\n",
    "upperBound = rolledMean.values + (rolledStd.values)*0.5"
   ]
  },
  {
   "cell_type": "code",
   "execution_count": 46,
   "metadata": {},
   "outputs": [],
   "source": [
    "upwellDates = copy.deepcopy(daily_year)"
   ]
  },
  {
   "cell_type": "markdown",
   "metadata": {},
   "source": [
    "In our code, we classify an upwell as having occured when the daily temperature is less than the lower bound of the rolled mean, where the lowerbound = (mean - std*0.5). \n",
    "\n",
    "To show the upwells, we make a copy of the dataframe upwellDates, and then set any value that isn't below the lower bound to NA. When we plot this, only the dates where the temperature is below the lower bound will be highlighted. "
   ]
  },
  {
   "cell_type": "code",
   "execution_count": 47,
   "metadata": {},
   "outputs": [],
   "source": [
    "for i in range(len(upwellDates)):\n",
    "    if((upwellDates.values[i] >= lowerBound[i]) | (np.isnan(lowerBound[i]))):\n",
    "        upwellDates.values[i] = np.nan"
   ]
  },
  {
   "cell_type": "code",
   "execution_count": 48,
   "metadata": {},
   "outputs": [
    {
     "data": {
      "text/html": [
       "<div>\n",
       "<style scoped>\n",
       "    .dataframe tbody tr th:only-of-type {\n",
       "        vertical-align: middle;\n",
       "    }\n",
       "\n",
       "    .dataframe tbody tr th {\n",
       "        vertical-align: top;\n",
       "    }\n",
       "\n",
       "    .dataframe thead th {\n",
       "        text-align: right;\n",
       "    }\n",
       "</style>\n",
       "<table border=\"1\" class=\"dataframe\">\n",
       "  <thead>\n",
       "    <tr style=\"text-align: right;\">\n",
       "      <th></th>\n",
       "      <th>temperature</th>\n",
       "    </tr>\n",
       "    <tr>\n",
       "      <th>doy</th>\n",
       "      <th></th>\n",
       "    </tr>\n",
       "  </thead>\n",
       "  <tbody>\n",
       "    <tr>\n",
       "      <th>167</th>\n",
       "      <td>-0.187500</td>\n",
       "    </tr>\n",
       "    <tr>\n",
       "      <th>168</th>\n",
       "      <td>-0.083333</td>\n",
       "    </tr>\n",
       "    <tr>\n",
       "      <th>169</th>\n",
       "      <td>-0.246875</td>\n",
       "    </tr>\n",
       "    <tr>\n",
       "      <th>170</th>\n",
       "      <td>-0.175000</td>\n",
       "    </tr>\n",
       "    <tr>\n",
       "      <th>171</th>\n",
       "      <td>NaN</td>\n",
       "    </tr>\n",
       "    <tr>\n",
       "      <th>172</th>\n",
       "      <td>NaN</td>\n",
       "    </tr>\n",
       "    <tr>\n",
       "      <th>173</th>\n",
       "      <td>NaN</td>\n",
       "    </tr>\n",
       "  </tbody>\n",
       "</table>\n",
       "</div>"
      ],
      "text/plain": [
       "     temperature\n",
       "doy             \n",
       "167    -0.187500\n",
       "168    -0.083333\n",
       "169    -0.246875\n",
       "170    -0.175000\n",
       "171          NaN\n",
       "172          NaN\n",
       "173          NaN"
      ]
     },
     "execution_count": 48,
     "metadata": {},
     "output_type": "execute_result"
    }
   ],
   "source": [
    "upwellDates[27:34]"
   ]
  },
  {
   "cell_type": "markdown",
   "metadata": {},
   "source": [
    "Above is a section of the dataframe 'upwellDates'. The days 171-173 have a temperature of NaN because they fall within the upper and lower bound of 'rolledMean'. Days 167-170 have a temperature because they fall below the lower bound, and are therfore classfied as an upwell. When we plot 'upwellDates', the upwells are highlighted in green."
   ]
  },
  {
   "cell_type": "code",
   "execution_count": 49,
   "metadata": {},
   "outputs": [
    {
     "data": {
      "text/plain": [
       "Text(0, 0.5, 'Temperature')"
      ]
     },
     "execution_count": 49,
     "metadata": {},
     "output_type": "execute_result"
    },
    {
     "data": {
      "image/png": "[encoded data removed]",
      "text/plain": [
       "<Figure size 432x288 with 1 Axes>"
      ]
     },
     "metadata": {
      "needs_background": "light"
     },
     "output_type": "display_data"
    }
   ],
   "source": [
    "#plots rolled mean of daily_year (blue)\n",
    "plt.plot(rolledMean)\n",
    "\n",
    "#plots std of rolled mean of daily year\n",
    "plt.fill_between(rolledMean.index, np.squeeze(upperBound),\n",
    "              np.squeeze(lowerBound),facecolor='steelblue',\n",
    "              interpolate=True, alpha=.3) \n",
    "\n",
    "#orange\n",
    "plt.plot(daily_year)\n",
    "\n",
    "#green\n",
    "plt.plot(upwellDates)\n",
    "\n",
    "\n",
    "plt.xlabel('Day of the year')\n",
    "plt.ylabel(\"Temperature\")"
   ]
  },
  {
   "cell_type": "markdown",
   "metadata": {},
   "source": [
    "The blue curve is the rolled mean with upper and lower bounds, the orange curve is the daily temperature, and the green highlights are upwells. "
   ]
  },
  {
   "cell_type": "markdown",
   "metadata": {},
   "source": [
    "We can then use the dataframe 'upwellDates' to create a new dataframe that gives us the start date, end date, and duration of each upwell. \n",
    "\n",
    "Since we want the absolute date instead of the day of the year, we reset the index and apply a method that finds the absolute date, before making the date the index again and dropping the old 'doy' column. "
   ]
  },
  {
   "cell_type": "code",
   "execution_count": 50,
   "metadata": {},
   "outputs": [],
   "source": [
    "upwellDates = upwellDates.reset_index()"
   ]
  },
  {
   "cell_type": "code",
   "execution_count": 51,
   "metadata": {},
   "outputs": [],
   "source": [
    "#changes 'doy' to an absolute date \n",
    "upwellDates.index = pd.DatetimeIndex(upwellDates['doy'].apply(lambda x: date(2007, 1, 1) \n",
    "                                                              + relativedelta(days=int(x)-1)))"
   ]
  },
  {
   "cell_type": "code",
   "execution_count": 52,
   "metadata": {},
   "outputs": [],
   "source": [
    "upwellDates = upwellDates.drop(columns=['doy'])"
   ]
  },
  {
   "cell_type": "markdown",
   "metadata": {},
   "source": [
    "To find the start and end dates, we just identify the chunk of dates where the temperature is not NaN. "
   ]
  },
  {
   "cell_type": "code",
   "execution_count": 53,
   "metadata": {},
   "outputs": [],
   "source": [
    "start = []\n",
    "end = []\n",
    "duration = []\n",
    "count = 0 #used for finding duration\n",
    "i = 0"
   ]
  },
  {
   "cell_type": "code",
   "execution_count": 54,
   "metadata": {},
   "outputs": [],
   "source": [
    "#for length of upwellDates\n",
    "while i < len(upwellDates):\n",
    "    #if it is not Nan, ie, if temp is below lower bound\n",
    "    if not np.isnan(upwellDates.values[i][0]): \n",
    "        start.append(upwellDates.index.values[i])\n",
    "    \n",
    "        while(not np.isnan(upwellDates.values[i][0])):\n",
    "            i += 1\n",
    "            count += 1\n",
    "        \n",
    "        end.append(upwellDates.index.values[i-1])\n",
    "        duration.append(count)\n",
    "        count = 0\n",
    "    i += 1"
   ]
  },
  {
   "cell_type": "code",
   "execution_count": 55,
   "metadata": {},
   "outputs": [],
   "source": [
    "data = {'startDate': start, 'endDate': end, 'duration': duration}\n",
    "upwells = pd.DataFrame(data, columns = ['startDate', 'endDate', 'duration'])"
   ]
  },
  {
   "cell_type": "code",
   "execution_count": 56,
   "metadata": {},
   "outputs": [
    {
     "data": {
      "text/html": [
       "<div>\n",
       "<style scoped>\n",
       "    .dataframe tbody tr th:only-of-type {\n",
       "        vertical-align: middle;\n",
       "    }\n",
       "\n",
       "    .dataframe tbody tr th {\n",
       "        vertical-align: top;\n",
       "    }\n",
       "\n",
       "    .dataframe thead th {\n",
       "        text-align: right;\n",
       "    }\n",
       "</style>\n",
       "<table border=\"1\" class=\"dataframe\">\n",
       "  <thead>\n",
       "    <tr style=\"text-align: right;\">\n",
       "      <th></th>\n",
       "      <th>startDate</th>\n",
       "      <th>endDate</th>\n",
       "      <th>duration</th>\n",
       "    </tr>\n",
       "  </thead>\n",
       "  <tbody>\n",
       "    <tr>\n",
       "      <th>0</th>\n",
       "      <td>2007-06-09</td>\n",
       "      <td>2007-06-19</td>\n",
       "      <td>11</td>\n",
       "    </tr>\n",
       "    <tr>\n",
       "      <th>1</th>\n",
       "      <td>2007-07-06</td>\n",
       "      <td>2007-07-07</td>\n",
       "      <td>2</td>\n",
       "    </tr>\n",
       "    <tr>\n",
       "      <th>2</th>\n",
       "      <td>2007-07-11</td>\n",
       "      <td>2007-07-12</td>\n",
       "      <td>2</td>\n",
       "    </tr>\n",
       "    <tr>\n",
       "      <th>3</th>\n",
       "      <td>2007-07-19</td>\n",
       "      <td>2007-07-20</td>\n",
       "      <td>2</td>\n",
       "    </tr>\n",
       "    <tr>\n",
       "      <th>4</th>\n",
       "      <td>2007-07-22</td>\n",
       "      <td>2007-07-23</td>\n",
       "      <td>2</td>\n",
       "    </tr>\n",
       "    <tr>\n",
       "      <th>5</th>\n",
       "      <td>2007-08-01</td>\n",
       "      <td>2007-08-01</td>\n",
       "      <td>1</td>\n",
       "    </tr>\n",
       "    <tr>\n",
       "      <th>6</th>\n",
       "      <td>2007-08-26</td>\n",
       "      <td>2007-09-02</td>\n",
       "      <td>8</td>\n",
       "    </tr>\n",
       "    <tr>\n",
       "      <th>7</th>\n",
       "      <td>2007-09-06</td>\n",
       "      <td>2007-09-06</td>\n",
       "      <td>1</td>\n",
       "    </tr>\n",
       "    <tr>\n",
       "      <th>8</th>\n",
       "      <td>2007-09-10</td>\n",
       "      <td>2007-09-10</td>\n",
       "      <td>1</td>\n",
       "    </tr>\n",
       "    <tr>\n",
       "      <th>9</th>\n",
       "      <td>2007-09-12</td>\n",
       "      <td>2007-09-12</td>\n",
       "      <td>1</td>\n",
       "    </tr>\n",
       "    <tr>\n",
       "      <th>10</th>\n",
       "      <td>2007-10-01</td>\n",
       "      <td>2007-10-01</td>\n",
       "      <td>1</td>\n",
       "    </tr>\n",
       "    <tr>\n",
       "      <th>11</th>\n",
       "      <td>2007-10-14</td>\n",
       "      <td>2007-10-14</td>\n",
       "      <td>1</td>\n",
       "    </tr>\n",
       "    <tr>\n",
       "      <th>12</th>\n",
       "      <td>2007-10-18</td>\n",
       "      <td>2007-10-20</td>\n",
       "      <td>3</td>\n",
       "    </tr>\n",
       "    <tr>\n",
       "      <th>13</th>\n",
       "      <td>2007-11-07</td>\n",
       "      <td>2007-11-07</td>\n",
       "      <td>1</td>\n",
       "    </tr>\n",
       "    <tr>\n",
       "      <th>14</th>\n",
       "      <td>2007-11-11</td>\n",
       "      <td>2007-11-12</td>\n",
       "      <td>2</td>\n",
       "    </tr>\n",
       "    <tr>\n",
       "      <th>15</th>\n",
       "      <td>2007-12-13</td>\n",
       "      <td>2007-12-16</td>\n",
       "      <td>4</td>\n",
       "    </tr>\n",
       "  </tbody>\n",
       "</table>\n",
       "</div>"
      ],
      "text/plain": [
       "    startDate    endDate  duration\n",
       "0  2007-06-09 2007-06-19        11\n",
       "1  2007-07-06 2007-07-07         2\n",
       "2  2007-07-11 2007-07-12         2\n",
       "3  2007-07-19 2007-07-20         2\n",
       "4  2007-07-22 2007-07-23         2\n",
       "5  2007-08-01 2007-08-01         1\n",
       "6  2007-08-26 2007-09-02         8\n",
       "7  2007-09-06 2007-09-06         1\n",
       "8  2007-09-10 2007-09-10         1\n",
       "9  2007-09-12 2007-09-12         1\n",
       "10 2007-10-01 2007-10-01         1\n",
       "11 2007-10-14 2007-10-14         1\n",
       "12 2007-10-18 2007-10-20         3\n",
       "13 2007-11-07 2007-11-07         1\n",
       "14 2007-11-11 2007-11-12         2\n",
       "15 2007-12-13 2007-12-16         4"
      ]
     },
     "execution_count": 56,
     "metadata": {},
     "output_type": "execute_result"
    }
   ],
   "source": [
    "upwells"
   ]
  },
  {
   "cell_type": "markdown",
   "metadata": {},
   "source": [
    "Now, we have a dataframe with each upwell from 2007, at the Comfort Cove site. \n",
    "\n",
    "In the future, we can use these upwell dataframes to learn more about things such as the number of upwells anually, the average duration of upwells, and the difference between upwells for different sites. "
   ]
  },
  {
   "cell_type": "code",
   "execution_count": null,
   "metadata": {},
   "outputs": [],
   "source": []
  }
 ],
 "metadata": {
  "kernelspec": {
   "display_name": "Python 3",
   "language": "python",
   "name": "python3"
  },
  "language_info": {
   "codemirror_mode": {
    "name": "ipython",
    "version": 3
   },
   "file_extension": ".py",
   "mimetype": "text/x-python",
   "name": "python",
   "nbconvert_exporter": "python",
   "pygments_lexer": "ipython3",
   "version": "3.7.6"
  }
 },
 "nbformat": 4,
 "nbformat_minor": 2
}
